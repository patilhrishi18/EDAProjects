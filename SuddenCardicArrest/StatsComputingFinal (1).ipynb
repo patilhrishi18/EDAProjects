{
 "cells": [
  {
   "cell_type": "markdown",
   "id": "b2a039a3",
   "metadata": {},
   "source": [
    "# Heart-Well Data Analysis Report\n"
   ]
  },
  {
   "cell_type": "markdown",
   "id": "b1f04027",
   "metadata": {},
   "source": [
    "## Introduction"
   ]
  },
  {
   "cell_type": "markdown",
   "id": "9f236044",
   "metadata": {},
   "source": [
    "Heart-Well as a company has decided to integrate medical expertise and cutting-edge technology to contribute towards prevention of sudden cardiac arrests.We,As Data Scientists have been tasked to identify and predict patients who potentially could be subject to sudden cardiac arrest.\n",
    "This report showcases our proficiency in importing libraries, manipulating data frames, and employing advanced analytical techniques, all tailored to the unique challenges posed by cardiac health. Through meticulous data exploration and innovative feature engineering, we have uncovered key predictors influencing sudden cardiac arrests risk, empowering us to develop robust prediction models.\n",
    "This report is a deeper exploration of our data-driven journey and the transformative impact it may yield on patient outcomes."
   ]
  },
  {
   "cell_type": "markdown",
   "id": "da6b7339",
   "metadata": {},
   "source": [
    "### The following Python packages and libraries are required in order to run the code in this project:"
   ]
  },
  {
   "cell_type": "code",
   "execution_count": 5,
   "id": "afc6fa27",
   "metadata": {
    "tags": []
   },
   "outputs": [],
   "source": [
    "# Import necessary libraries\n",
    "import math\n",
    "import numpy as np\n",
    "import pandas as pd\n",
    "import seaborn as sns\n",
    "import matplotlib.pyplot as plt\n",
    "import bs4\n",
    "import sklearn\n",
    "from scipy.stats import zscore\n",
    "import warnings\n",
    "from sklearn.linear_model import LinearRegression, LogisticRegression\n",
    "from sklearn.preprocessing import OneHotEncoder, StandardScaler\n",
    "from sklearn.pipeline import Pipeline, make_pipeline\n",
    "from sklearn.compose import ColumnTransformer\n",
    "from sklearn.compose import make_column_selector as selector\n",
    "from sklearn.neighbors import KNeighborsClassifier\n",
    "from sklearn.model_selection import cross_val_score, train_test_split, GridSearchCV\n",
    "from sklearn.tree import DecisionTreeClassifier\n",
    "from sklearn.svm import SVC\n",
    "from sklearn.ensemble import RandomForestClassifier, GradientBoostingClassifier, VotingClassifier\n",
    "from sklearn.metrics import confusion_matrix, accuracy_score, precision_score, recall_score, f1_score\n",
    "from sklearn import set_config\n",
    "set_config(display='diagram')\n",
    "warnings.filterwarnings(\"ignore\")"
   ]
  },
  {
   "cell_type": "code",
   "execution_count": 7,
   "id": "f132e559-2464-4523-9513-41c4a9c4908a",
   "metadata": {
    "tags": []
   },
   "outputs": [
    {
     "data": {
      "text/html": [
       "<div>\n",
       "<style scoped>\n",
       "    .dataframe tbody tr th:only-of-type {\n",
       "        vertical-align: middle;\n",
       "    }\n",
       "\n",
       "    .dataframe tbody tr th {\n",
       "        vertical-align: top;\n",
       "    }\n",
       "\n",
       "    .dataframe thead th {\n",
       "        text-align: right;\n",
       "    }\n",
       "</style>\n",
       "<table border=\"1\" class=\"dataframe\">\n",
       "  <thead>\n",
       "    <tr style=\"text-align: right;\">\n",
       "      <th></th>\n",
       "      <th>PatientName</th>\n",
       "      <th>Age</th>\n",
       "      <th>Sex</th>\n",
       "      <th>ECG-Resting</th>\n",
       "      <th>ST-Slope</th>\n",
       "      <th>BloodPressure-Resting</th>\n",
       "      <th>HeartRate-Max</th>\n",
       "      <th>ChestPainType</th>\n",
       "      <th>Cholesterol</th>\n",
       "      <th>BloodSugar-Fasting</th>\n",
       "      <th>ExerciseAngina</th>\n",
       "      <th>OldPeak</th>\n",
       "      <th>SCA</th>\n",
       "    </tr>\n",
       "  </thead>\n",
       "  <tbody>\n",
       "    <tr>\n",
       "      <th>0</th>\n",
       "      <td>Patient 1</td>\n",
       "      <td>40</td>\n",
       "      <td>M</td>\n",
       "      <td>Normal</td>\n",
       "      <td>Up</td>\n",
       "      <td>140</td>\n",
       "      <td>172</td>\n",
       "      <td>ATA</td>\n",
       "      <td>289</td>\n",
       "      <td>Normal</td>\n",
       "      <td>N</td>\n",
       "      <td>0.0</td>\n",
       "      <td>0</td>\n",
       "    </tr>\n",
       "    <tr>\n",
       "      <th>1</th>\n",
       "      <td>Patient 2</td>\n",
       "      <td>49</td>\n",
       "      <td>F</td>\n",
       "      <td>Normal</td>\n",
       "      <td>Flat</td>\n",
       "      <td>160</td>\n",
       "      <td>156</td>\n",
       "      <td>NAP</td>\n",
       "      <td>180</td>\n",
       "      <td>Normal</td>\n",
       "      <td>N</td>\n",
       "      <td>1.0</td>\n",
       "      <td>1</td>\n",
       "    </tr>\n",
       "    <tr>\n",
       "      <th>2</th>\n",
       "      <td>Patient 3</td>\n",
       "      <td>37</td>\n",
       "      <td>M</td>\n",
       "      <td>ST</td>\n",
       "      <td>Up</td>\n",
       "      <td>130</td>\n",
       "      <td>98</td>\n",
       "      <td>ATA</td>\n",
       "      <td>283</td>\n",
       "      <td>Normal</td>\n",
       "      <td>N</td>\n",
       "      <td>0.0</td>\n",
       "      <td>0</td>\n",
       "    </tr>\n",
       "    <tr>\n",
       "      <th>3</th>\n",
       "      <td>Patient 4</td>\n",
       "      <td>48</td>\n",
       "      <td>F</td>\n",
       "      <td>Normal</td>\n",
       "      <td>Flat</td>\n",
       "      <td>138</td>\n",
       "      <td>108</td>\n",
       "      <td>ASY</td>\n",
       "      <td>214</td>\n",
       "      <td>Normal</td>\n",
       "      <td>Y</td>\n",
       "      <td>1.5</td>\n",
       "      <td>1</td>\n",
       "    </tr>\n",
       "    <tr>\n",
       "      <th>4</th>\n",
       "      <td>Patient 5</td>\n",
       "      <td>54</td>\n",
       "      <td>M</td>\n",
       "      <td>Normal</td>\n",
       "      <td>Up</td>\n",
       "      <td>150</td>\n",
       "      <td>122</td>\n",
       "      <td>NAP</td>\n",
       "      <td>195</td>\n",
       "      <td>Normal</td>\n",
       "      <td>N</td>\n",
       "      <td>0.0</td>\n",
       "      <td>0</td>\n",
       "    </tr>\n",
       "  </tbody>\n",
       "</table>\n",
       "</div>"
      ],
      "text/plain": [
       "  PatientName  Age Sex ECG-Resting ST-Slope  BloodPressure-Resting  \\\n",
       "0   Patient 1   40   M      Normal       Up                    140   \n",
       "1   Patient 2   49   F      Normal     Flat                    160   \n",
       "2   Patient 3   37   M          ST       Up                    130   \n",
       "3   Patient 4   48   F      Normal     Flat                    138   \n",
       "4   Patient 5   54   M      Normal       Up                    150   \n",
       "\n",
       "   HeartRate-Max ChestPainType  Cholesterol BloodSugar-Fasting ExerciseAngina  \\\n",
       "0            172           ATA          289             Normal              N   \n",
       "1            156           NAP          180             Normal              N   \n",
       "2             98           ATA          283             Normal              N   \n",
       "3            108           ASY          214             Normal              Y   \n",
       "4            122           NAP          195             Normal              N   \n",
       "\n",
       "   OldPeak  SCA  \n",
       "0      0.0    0  \n",
       "1      1.0    1  \n",
       "2      0.0    0  \n",
       "3      1.5    1  \n",
       "4      0.0    0  "
      ]
     },
     "execution_count": 7,
     "metadata": {},
     "output_type": "execute_result"
    }
   ],
   "source": [
    "# Load the data into a DataFrame\n",
    "heartwell_df = pd.read_csv(\"/Users/trishla/Downloads/SuddenCardiacArrest.csv\")\n",
    "heartwell_df.head()"
   ]
  },
  {
   "cell_type": "markdown",
   "id": "0a33a598-7d17-403a-b930-fd3d102e4d54",
   "metadata": {},
   "source": [
    "### Removed identifiable features to preserve privacy."
   ]
  },
  {
   "cell_type": "markdown",
   "id": "4574149e-8d6d-4981-90ec-71f6d21c0d9a",
   "metadata": {
    "tags": []
   },
   "source": [
    "## Exploratory Data Analysis"
   ]
  },
  {
   "cell_type": "markdown",
   "id": "f96f59f9-2efd-4831-a7eb-8d51b488a222",
   "metadata": {
    "tags": []
   },
   "source": [
    "### Removed identifiable features"
   ]
  },
  {
   "cell_type": "code",
   "execution_count": 8,
   "id": "ffb07bc1-58f3-420c-b6b8-b6c51f563117",
   "metadata": {
    "tags": []
   },
   "outputs": [
    {
     "data": {
      "text/html": [
       "<div>\n",
       "<style scoped>\n",
       "    .dataframe tbody tr th:only-of-type {\n",
       "        vertical-align: middle;\n",
       "    }\n",
       "\n",
       "    .dataframe tbody tr th {\n",
       "        vertical-align: top;\n",
       "    }\n",
       "\n",
       "    .dataframe thead th {\n",
       "        text-align: right;\n",
       "    }\n",
       "</style>\n",
       "<table border=\"1\" class=\"dataframe\">\n",
       "  <thead>\n",
       "    <tr style=\"text-align: right;\">\n",
       "      <th></th>\n",
       "      <th>Age</th>\n",
       "      <th>Sex</th>\n",
       "      <th>ECG-Resting</th>\n",
       "      <th>ST-Slope</th>\n",
       "      <th>BloodPressure-Resting</th>\n",
       "      <th>HeartRate-Max</th>\n",
       "      <th>ChestPainType</th>\n",
       "      <th>Cholesterol</th>\n",
       "      <th>BloodSugar-Fasting</th>\n",
       "      <th>ExerciseAngina</th>\n",
       "      <th>OldPeak</th>\n",
       "      <th>SCA</th>\n",
       "    </tr>\n",
       "  </thead>\n",
       "  <tbody>\n",
       "    <tr>\n",
       "      <th>0</th>\n",
       "      <td>40</td>\n",
       "      <td>M</td>\n",
       "      <td>Normal</td>\n",
       "      <td>Up</td>\n",
       "      <td>140</td>\n",
       "      <td>172</td>\n",
       "      <td>ATA</td>\n",
       "      <td>289</td>\n",
       "      <td>Normal</td>\n",
       "      <td>N</td>\n",
       "      <td>0.0</td>\n",
       "      <td>0</td>\n",
       "    </tr>\n",
       "    <tr>\n",
       "      <th>1</th>\n",
       "      <td>49</td>\n",
       "      <td>F</td>\n",
       "      <td>Normal</td>\n",
       "      <td>Flat</td>\n",
       "      <td>160</td>\n",
       "      <td>156</td>\n",
       "      <td>NAP</td>\n",
       "      <td>180</td>\n",
       "      <td>Normal</td>\n",
       "      <td>N</td>\n",
       "      <td>1.0</td>\n",
       "      <td>1</td>\n",
       "    </tr>\n",
       "    <tr>\n",
       "      <th>2</th>\n",
       "      <td>37</td>\n",
       "      <td>M</td>\n",
       "      <td>ST</td>\n",
       "      <td>Up</td>\n",
       "      <td>130</td>\n",
       "      <td>98</td>\n",
       "      <td>ATA</td>\n",
       "      <td>283</td>\n",
       "      <td>Normal</td>\n",
       "      <td>N</td>\n",
       "      <td>0.0</td>\n",
       "      <td>0</td>\n",
       "    </tr>\n",
       "    <tr>\n",
       "      <th>3</th>\n",
       "      <td>48</td>\n",
       "      <td>F</td>\n",
       "      <td>Normal</td>\n",
       "      <td>Flat</td>\n",
       "      <td>138</td>\n",
       "      <td>108</td>\n",
       "      <td>ASY</td>\n",
       "      <td>214</td>\n",
       "      <td>Normal</td>\n",
       "      <td>Y</td>\n",
       "      <td>1.5</td>\n",
       "      <td>1</td>\n",
       "    </tr>\n",
       "    <tr>\n",
       "      <th>4</th>\n",
       "      <td>54</td>\n",
       "      <td>M</td>\n",
       "      <td>Normal</td>\n",
       "      <td>Up</td>\n",
       "      <td>150</td>\n",
       "      <td>122</td>\n",
       "      <td>NAP</td>\n",
       "      <td>195</td>\n",
       "      <td>Normal</td>\n",
       "      <td>N</td>\n",
       "      <td>0.0</td>\n",
       "      <td>0</td>\n",
       "    </tr>\n",
       "  </tbody>\n",
       "</table>\n",
       "</div>"
      ],
      "text/plain": [
       "   Age Sex ECG-Resting ST-Slope  BloodPressure-Resting  HeartRate-Max  \\\n",
       "0   40   M      Normal       Up                    140            172   \n",
       "1   49   F      Normal     Flat                    160            156   \n",
       "2   37   M          ST       Up                    130             98   \n",
       "3   48   F      Normal     Flat                    138            108   \n",
       "4   54   M      Normal       Up                    150            122   \n",
       "\n",
       "  ChestPainType  Cholesterol BloodSugar-Fasting ExerciseAngina  OldPeak  SCA  \n",
       "0           ATA          289             Normal              N      0.0    0  \n",
       "1           NAP          180             Normal              N      1.0    1  \n",
       "2           ATA          283             Normal              N      0.0    0  \n",
       "3           ASY          214             Normal              Y      1.5    1  \n",
       "4           NAP          195             Normal              N      0.0    0  "
      ]
     },
     "execution_count": 8,
     "metadata": {},
     "output_type": "execute_result"
    }
   ],
   "source": [
    "heartwell_df = heartwell_df.drop(columns=\"PatientName\")\n",
    "heartwell_df.head()"
   ]
  },
  {
   "cell_type": "markdown",
   "id": "ff0c0336-3ed5-48f7-b377-8e47c3961cb4",
   "metadata": {},
   "source": [
    "### Data Dimensions"
   ]
  },
  {
   "cell_type": "code",
   "execution_count": 9,
   "id": "b653bd2c-761e-45a0-ada8-f4376c04c5bd",
   "metadata": {
    "tags": []
   },
   "outputs": [
    {
     "data": {
      "text/plain": [
       "(1221, 12)"
      ]
     },
     "execution_count": 9,
     "metadata": {},
     "output_type": "execute_result"
    }
   ],
   "source": [
    "heartwell_df.shape"
   ]
  },
  {
   "cell_type": "markdown",
   "id": "8eeb904c-69e0-47ea-8335-4e64ca4d187d",
   "metadata": {},
   "source": [
    "### Data Types"
   ]
  },
  {
   "cell_type": "code",
   "execution_count": 10,
   "id": "16706a81-f542-46cd-aeda-d18053d9e1d9",
   "metadata": {
    "tags": []
   },
   "outputs": [
    {
     "data": {
      "text/plain": [
       "Age                        int64\n",
       "Sex                       object\n",
       "ECG-Resting               object\n",
       "ST-Slope                  object\n",
       "BloodPressure-Resting      int64\n",
       "HeartRate-Max              int64\n",
       "ChestPainType             object\n",
       "Cholesterol                int64\n",
       "BloodSugar-Fasting        object\n",
       "ExerciseAngina            object\n",
       "OldPeak                  float64\n",
       "SCA                        int64\n",
       "dtype: object"
      ]
     },
     "execution_count": 10,
     "metadata": {},
     "output_type": "execute_result"
    }
   ],
   "source": [
    "heartwell_df.dtypes"
   ]
  },
  {
   "cell_type": "markdown",
   "id": "be0f6d2a-3229-4609-8dda-ef0b320ca537",
   "metadata": {},
   "source": [
    "### Summary Statistics"
   ]
  },
  {
   "cell_type": "code",
   "execution_count": 11,
   "id": "676459ed-6112-46be-bdfa-6bb204621943",
   "metadata": {
    "tags": []
   },
   "outputs": [
    {
     "data": {
      "text/html": [
       "<div>\n",
       "<style scoped>\n",
       "    .dataframe tbody tr th:only-of-type {\n",
       "        vertical-align: middle;\n",
       "    }\n",
       "\n",
       "    .dataframe tbody tr th {\n",
       "        vertical-align: top;\n",
       "    }\n",
       "\n",
       "    .dataframe thead th {\n",
       "        text-align: right;\n",
       "    }\n",
       "</style>\n",
       "<table border=\"1\" class=\"dataframe\">\n",
       "  <thead>\n",
       "    <tr style=\"text-align: right;\">\n",
       "      <th></th>\n",
       "      <th>Age</th>\n",
       "      <th>BloodPressure-Resting</th>\n",
       "      <th>HeartRate-Max</th>\n",
       "      <th>Cholesterol</th>\n",
       "      <th>OldPeak</th>\n",
       "      <th>SCA</th>\n",
       "    </tr>\n",
       "  </thead>\n",
       "  <tbody>\n",
       "    <tr>\n",
       "      <th>count</th>\n",
       "      <td>1221.000000</td>\n",
       "      <td>1221.000000</td>\n",
       "      <td>1221.000000</td>\n",
       "      <td>1221.000000</td>\n",
       "      <td>1221.000000</td>\n",
       "      <td>1221.000000</td>\n",
       "    </tr>\n",
       "    <tr>\n",
       "      <th>mean</th>\n",
       "      <td>53.741196</td>\n",
       "      <td>132.221130</td>\n",
       "      <td>139.985258</td>\n",
       "      <td>210.684685</td>\n",
       "      <td>0.925143</td>\n",
       "      <td>0.529894</td>\n",
       "    </tr>\n",
       "    <tr>\n",
       "      <th>std</th>\n",
       "      <td>9.341351</td>\n",
       "      <td>18.286927</td>\n",
       "      <td>25.443021</td>\n",
       "      <td>100.425185</td>\n",
       "      <td>1.092282</td>\n",
       "      <td>0.499310</td>\n",
       "    </tr>\n",
       "    <tr>\n",
       "      <th>min</th>\n",
       "      <td>28.000000</td>\n",
       "      <td>0.000000</td>\n",
       "      <td>60.000000</td>\n",
       "      <td>0.000000</td>\n",
       "      <td>-2.600000</td>\n",
       "      <td>0.000000</td>\n",
       "    </tr>\n",
       "    <tr>\n",
       "      <th>25%</th>\n",
       "      <td>47.000000</td>\n",
       "      <td>120.000000</td>\n",
       "      <td>122.000000</td>\n",
       "      <td>188.000000</td>\n",
       "      <td>0.000000</td>\n",
       "      <td>0.000000</td>\n",
       "    </tr>\n",
       "    <tr>\n",
       "      <th>50%</th>\n",
       "      <td>54.000000</td>\n",
       "      <td>130.000000</td>\n",
       "      <td>141.000000</td>\n",
       "      <td>228.000000</td>\n",
       "      <td>0.600000</td>\n",
       "      <td>1.000000</td>\n",
       "    </tr>\n",
       "    <tr>\n",
       "      <th>75%</th>\n",
       "      <td>60.000000</td>\n",
       "      <td>140.000000</td>\n",
       "      <td>160.000000</td>\n",
       "      <td>269.000000</td>\n",
       "      <td>1.600000</td>\n",
       "      <td>1.000000</td>\n",
       "    </tr>\n",
       "    <tr>\n",
       "      <th>max</th>\n",
       "      <td>77.000000</td>\n",
       "      <td>200.000000</td>\n",
       "      <td>202.000000</td>\n",
       "      <td>603.000000</td>\n",
       "      <td>6.200000</td>\n",
       "      <td>1.000000</td>\n",
       "    </tr>\n",
       "  </tbody>\n",
       "</table>\n",
       "</div>"
      ],
      "text/plain": [
       "               Age  BloodPressure-Resting  HeartRate-Max  Cholesterol  \\\n",
       "count  1221.000000            1221.000000    1221.000000  1221.000000   \n",
       "mean     53.741196             132.221130     139.985258   210.684685   \n",
       "std       9.341351              18.286927      25.443021   100.425185   \n",
       "min      28.000000               0.000000      60.000000     0.000000   \n",
       "25%      47.000000             120.000000     122.000000   188.000000   \n",
       "50%      54.000000             130.000000     141.000000   228.000000   \n",
       "75%      60.000000             140.000000     160.000000   269.000000   \n",
       "max      77.000000             200.000000     202.000000   603.000000   \n",
       "\n",
       "           OldPeak          SCA  \n",
       "count  1221.000000  1221.000000  \n",
       "mean      0.925143     0.529894  \n",
       "std       1.092282     0.499310  \n",
       "min      -2.600000     0.000000  \n",
       "25%       0.000000     0.000000  \n",
       "50%       0.600000     1.000000  \n",
       "75%       1.600000     1.000000  \n",
       "max       6.200000     1.000000  "
      ]
     },
     "execution_count": 11,
     "metadata": {},
     "output_type": "execute_result"
    }
   ],
   "source": [
    "heartwell_df.describe()"
   ]
  },
  {
   "cell_type": "markdown",
   "id": "944071b0-b699-48a9-9af3-b4c55ccb8b02",
   "metadata": {
    "tags": []
   },
   "source": [
    "### Correlation plot"
   ]
  },
  {
   "cell_type": "code",
   "execution_count": 12,
   "id": "7c44587c-67a0-4dc7-b569-4cbee4db2441",
   "metadata": {
    "tags": []
   },
   "outputs": [
    {
     "data": {
      "image/png": "[encoded data removed]",
      "text/plain": [
       "<Figure size 1200x800 with 2 Axes>"
      ]
     },
     "metadata": {},
     "output_type": "display_data"
    }
   ],
   "source": [
    "plt.figure(figsize=(12,8))\n",
    "sns.heatmap(heartwell_df.corr(numeric_only=True), annot=True, cmap='coolwarm', fmt=\".2f\")\n",
    "plt.title(\"Correlation Matrix\")\n",
    "plt.show()"
   ]
  },
  {
   "cell_type": "markdown",
   "id": "0629806e-9979-4c8a-adc4-239f81dd72ba",
   "metadata": {
    "tags": []
   },
   "source": [
    "### Data Distribution (Feature vs Target Variable)"
   ]
  },
  {
   "cell_type": "code",
   "execution_count": 13,
   "id": "46966ce4-9dc9-41a0-b917-b696b937918f",
   "metadata": {
    "tags": []
   },
   "outputs": [
    {
     "data": {
      "image/png": "[encoded data removed]",
      "text/plain": [
       "<Figure size 1000x600 with 1 Axes>"
      ]
     },
     "metadata": {},
     "output_type": "display_data"
    },
    {
     "data": {
      "image/png": "[encoded data removed]",
      "text/plain": [
       "<Figure size 1000x600 with 1 Axes>"
      ]
     },
     "metadata": {},
     "output_type": "display_data"
    },
    {
     "data": {
      "image/png": "[encoded data removed]",
      "text/plain": [
       "<Figure size 1000x600 with 1 Axes>"
      ]
     },
     "metadata": {},
     "output_type": "display_data"
    },
    {
     "data": {
      "image/png": "[encoded data removed]",
      "text/plain": [
       "<Figure size 1000x600 with 1 Axes>"
      ]
     },
     "metadata": {},
     "output_type": "display_data"
    },
    {
     "data": {
      "image/png": "[encoded data removed]",
      "text/plain": [
       "<Figure size 1000x600 with 1 Axes>"
      ]
     },
     "metadata": {},
     "output_type": "display_data"
    }
   ],
   "source": [
    "# Age vs SCA\n",
    "plt.figure(figsize=(10, 6))\n",
    "sns.histplot(x='Age', hue='SCA', data=heartwell_df, bins=30, kde=True, palette='viridis')\n",
    "plt.title('Age Distribution by SCA')\n",
    "plt.xlabel('Age')\n",
    "plt.ylabel('Count')\n",
    "plt.show()\n",
    "\n",
    "# Blood Pressure vs SCA\n",
    "plt.figure(figsize=(10, 6))\n",
    "sns.histplot(x='BloodPressure-Resting', hue='SCA', data=heartwell_df, bins=30, kde=True, palette='viridis')\n",
    "plt.title('Blood Pressure Distribution by SCA')\n",
    "plt.xlabel('Blood Pressure Resting')\n",
    "plt.ylabel('Count')\n",
    "plt.show()\n",
    "\n",
    "# Heart Rate Max vs SCA\n",
    "plt.figure(figsize=(10, 6))\n",
    "sns.histplot(x='HeartRate-Max', hue='SCA', data=heartwell_df, bins=30, kde=True, palette='viridis')\n",
    "plt.title('Heart Rate Max Distribution by SCA')\n",
    "plt.xlabel('Heart Rate Max')\n",
    "plt.ylabel('Count')\n",
    "plt.show()\n",
    "\n",
    "# Cholesterol vs SCA\n",
    "plt.figure(figsize=(10, 6))\n",
    "sns.histplot(x='Cholesterol', hue='SCA', data=heartwell_df, bins=30, kde=True, palette='viridis')\n",
    "plt.title('Cholesterol Distribution by SCA')\n",
    "plt.xlabel('Cholesterol')\n",
    "plt.ylabel('Count')\n",
    "plt.show()\n",
    "\n",
    "# OldPeak vs SCA\n",
    "plt.figure(figsize=(10, 6))\n",
    "sns.histplot(x='OldPeak', hue='SCA', data=heartwell_df, bins=30, kde=True, palette='viridis')\n",
    "plt.title('OldPeak Distribution by SCA')\n",
    "plt.xlabel('OldPeak')\n",
    "plt.ylabel('Count')\n",
    "plt.show()"
   ]
  },
  {
   "cell_type": "markdown",
   "id": "14be0bc8-6985-44d6-9ab2-bb11a198ab9b",
   "metadata": {},
   "source": [
    "## Data Pre-Processing and Wrangling"
   ]
  },
  {
   "cell_type": "markdown",
   "id": "a92eefbe-b5e3-4e15-847e-01d9b00194c8",
   "metadata": {
    "tags": []
   },
   "source": [
    "### Missing Values"
   ]
  },
  {
   "cell_type": "code",
   "execution_count": 14,
   "id": "260e6b1f-0362-45ed-b907-d88ca397f23e",
   "metadata": {
    "tags": []
   },
   "outputs": [
    {
     "data": {
      "text/plain": [
       "Age                      0\n",
       "Sex                      0\n",
       "ECG-Resting              0\n",
       "ST-Slope                 0\n",
       "BloodPressure-Resting    0\n",
       "HeartRate-Max            0\n",
       "ChestPainType            0\n",
       "Cholesterol              0\n",
       "BloodSugar-Fasting       0\n",
       "ExerciseAngina           0\n",
       "OldPeak                  0\n",
       "SCA                      0\n",
       "dtype: int64"
      ]
     },
     "execution_count": 14,
     "metadata": {},
     "output_type": "execute_result"
    }
   ],
   "source": [
    "heartwell_df.isnull().sum()"
   ]
  },
  {
   "cell_type": "markdown",
   "id": "a1552eaa-337b-40e4-9adf-f0d6da32740d",
   "metadata": {
    "tags": []
   },
   "source": [
    "### Missing values imputation"
   ]
  },
  {
   "cell_type": "code",
   "execution_count": 15,
   "id": "b83908d4-5797-4d63-b20d-78f39560fb1b",
   "metadata": {
    "tags": []
   },
   "outputs": [
    {
     "name": "stdout",
     "output_type": "stream",
     "text": [
      "No imputation of missing values required since there are no missing values in data to affect our models\n"
     ]
    }
   ],
   "source": [
    "print(\"No imputation of missing values required since there are no missing values in data to affect our models\")"
   ]
  },
  {
   "cell_type": "markdown",
   "id": "b30c7ecf-fc48-4333-b3f8-221ce8cfc2ac",
   "metadata": {
    "tags": []
   },
   "source": [
    "### Duplicate Data"
   ]
  },
  {
   "cell_type": "code",
   "execution_count": 16,
   "id": "798165ce-165c-4887-b3f2-70414325fa66",
   "metadata": {
    "tags": []
   },
   "outputs": [
    {
     "name": "stdout",
     "output_type": "stream",
     "text": [
      "The number of duplicated rows in our data is 303\n"
     ]
    }
   ],
   "source": [
    "duplicate_rows = heartwell_df.duplicated().sum()\n",
    "#duplicate_rows\n",
    "print(f\"The number of duplicated rows in our data is {duplicate_rows}\")"
   ]
  },
  {
   "cell_type": "code",
   "execution_count": 17,
   "id": "6524e4cb-0901-4421-8a6c-b304564a849e",
   "metadata": {
    "tags": []
   },
   "outputs": [],
   "source": [
    "heartwell_df = heartwell_df.drop_duplicates()"
   ]
  },
  {
   "cell_type": "code",
   "execution_count": 18,
   "id": "2bdecd0b-23d6-4a6b-815c-6c6f93523091",
   "metadata": {
    "tags": []
   },
   "outputs": [
    {
     "data": {
      "text/plain": [
       "0"
      ]
     },
     "execution_count": 18,
     "metadata": {},
     "output_type": "execute_result"
    }
   ],
   "source": [
    "duplicate_rows = heartwell_df.duplicated().sum()\n",
    "duplicate_rows"
   ]
  },
  {
   "cell_type": "code",
   "execution_count": 19,
   "id": "9fa256a5-5a32-47ab-8a27-f80ae377975f",
   "metadata": {
    "tags": []
   },
   "outputs": [
    {
     "name": "stdout",
     "output_type": "stream",
     "text": [
      "We have removed the duplicated records\n"
     ]
    }
   ],
   "source": [
    "print(\"We have removed the duplicated records\")"
   ]
  },
  {
   "cell_type": "markdown",
   "id": "c02a1913-1846-4a11-9950-1f9bd5aa806f",
   "metadata": {
    "tags": []
   },
   "source": [
    "### Feature Engineering"
   ]
  },
  {
   "cell_type": "markdown",
   "id": "ac69a7b5-81ea-4f07-b364-cf7db95982c9",
   "metadata": {
    "tags": []
   },
   "source": [
    "#### Added AgeGroup category column based on age range. "
   ]
  },
  {
   "cell_type": "code",
   "execution_count": 20,
   "id": "ecee2c7c-7d72-4905-b8e4-a24defcc2e3d",
   "metadata": {
    "tags": []
   },
   "outputs": [
    {
     "data": {
      "text/html": [
       "<div>\n",
       "<style scoped>\n",
       "    .dataframe tbody tr th:only-of-type {\n",
       "        vertical-align: middle;\n",
       "    }\n",
       "\n",
       "    .dataframe tbody tr th {\n",
       "        vertical-align: top;\n",
       "    }\n",
       "\n",
       "    .dataframe thead th {\n",
       "        text-align: right;\n",
       "    }\n",
       "</style>\n",
       "<table border=\"1\" class=\"dataframe\">\n",
       "  <thead>\n",
       "    <tr style=\"text-align: right;\">\n",
       "      <th></th>\n",
       "      <th>Age</th>\n",
       "      <th>Sex</th>\n",
       "      <th>ECG-Resting</th>\n",
       "      <th>ST-Slope</th>\n",
       "      <th>BloodPressure-Resting</th>\n",
       "      <th>HeartRate-Max</th>\n",
       "      <th>ChestPainType</th>\n",
       "      <th>Cholesterol</th>\n",
       "      <th>BloodSugar-Fasting</th>\n",
       "      <th>ExerciseAngina</th>\n",
       "      <th>OldPeak</th>\n",
       "      <th>SCA</th>\n",
       "      <th>AgeGroup</th>\n",
       "    </tr>\n",
       "  </thead>\n",
       "  <tbody>\n",
       "    <tr>\n",
       "      <th>0</th>\n",
       "      <td>40</td>\n",
       "      <td>M</td>\n",
       "      <td>Normal</td>\n",
       "      <td>Up</td>\n",
       "      <td>140</td>\n",
       "      <td>172</td>\n",
       "      <td>ATA</td>\n",
       "      <td>289</td>\n",
       "      <td>Normal</td>\n",
       "      <td>N</td>\n",
       "      <td>0.0</td>\n",
       "      <td>0</td>\n",
       "      <td>40-59</td>\n",
       "    </tr>\n",
       "    <tr>\n",
       "      <th>1</th>\n",
       "      <td>49</td>\n",
       "      <td>F</td>\n",
       "      <td>Normal</td>\n",
       "      <td>Flat</td>\n",
       "      <td>160</td>\n",
       "      <td>156</td>\n",
       "      <td>NAP</td>\n",
       "      <td>180</td>\n",
       "      <td>Normal</td>\n",
       "      <td>N</td>\n",
       "      <td>1.0</td>\n",
       "      <td>1</td>\n",
       "      <td>40-59</td>\n",
       "    </tr>\n",
       "    <tr>\n",
       "      <th>2</th>\n",
       "      <td>37</td>\n",
       "      <td>M</td>\n",
       "      <td>ST</td>\n",
       "      <td>Up</td>\n",
       "      <td>130</td>\n",
       "      <td>98</td>\n",
       "      <td>ATA</td>\n",
       "      <td>283</td>\n",
       "      <td>Normal</td>\n",
       "      <td>N</td>\n",
       "      <td>0.0</td>\n",
       "      <td>0</td>\n",
       "      <td>19-39</td>\n",
       "    </tr>\n",
       "    <tr>\n",
       "      <th>3</th>\n",
       "      <td>48</td>\n",
       "      <td>F</td>\n",
       "      <td>Normal</td>\n",
       "      <td>Flat</td>\n",
       "      <td>138</td>\n",
       "      <td>108</td>\n",
       "      <td>ASY</td>\n",
       "      <td>214</td>\n",
       "      <td>Normal</td>\n",
       "      <td>Y</td>\n",
       "      <td>1.5</td>\n",
       "      <td>1</td>\n",
       "      <td>40-59</td>\n",
       "    </tr>\n",
       "    <tr>\n",
       "      <th>4</th>\n",
       "      <td>54</td>\n",
       "      <td>M</td>\n",
       "      <td>Normal</td>\n",
       "      <td>Up</td>\n",
       "      <td>150</td>\n",
       "      <td>122</td>\n",
       "      <td>NAP</td>\n",
       "      <td>195</td>\n",
       "      <td>Normal</td>\n",
       "      <td>N</td>\n",
       "      <td>0.0</td>\n",
       "      <td>0</td>\n",
       "      <td>40-59</td>\n",
       "    </tr>\n",
       "  </tbody>\n",
       "</table>\n",
       "</div>"
      ],
      "text/plain": [
       "   Age Sex ECG-Resting ST-Slope  BloodPressure-Resting  HeartRate-Max  \\\n",
       "0   40   M      Normal       Up                    140            172   \n",
       "1   49   F      Normal     Flat                    160            156   \n",
       "2   37   M          ST       Up                    130             98   \n",
       "3   48   F      Normal     Flat                    138            108   \n",
       "4   54   M      Normal       Up                    150            122   \n",
       "\n",
       "  ChestPainType  Cholesterol BloodSugar-Fasting ExerciseAngina  OldPeak  SCA  \\\n",
       "0           ATA          289             Normal              N      0.0    0   \n",
       "1           NAP          180             Normal              N      1.0    1   \n",
       "2           ATA          283             Normal              N      0.0    0   \n",
       "3           ASY          214             Normal              Y      1.5    1   \n",
       "4           NAP          195             Normal              N      0.0    0   \n",
       "\n",
       "  AgeGroup  \n",
       "0    40-59  \n",
       "1    40-59  \n",
       "2    19-39  \n",
       "3    40-59  \n",
       "4    40-59  "
      ]
     },
     "execution_count": 20,
     "metadata": {},
     "output_type": "execute_result"
    }
   ],
   "source": [
    "# Define age ranges and corresponding labels\n",
    "bins = [19,39,59,79,99]\n",
    "labels = ['19-39','40-59','60-79','80-99']\n",
    "\n",
    "# Create the 'AgeGroup' column\n",
    "heartwell_df['AgeGroup'] = pd.cut(heartwell_df['Age'], bins=bins, labels=labels, right=False)\n",
    "heartwell_df.head(5)"
   ]
  },
  {
   "cell_type": "markdown",
   "id": "9ac05a5e-88e3-436a-8d4f-fb5362e4d402",
   "metadata": {},
   "source": [
    "### Calculate the risk based on Age, Blood Pressure-Resting, Cholesterol, and Max Heart Rate"
   ]
  },
  {
   "cell_type": "code",
   "execution_count": 21,
   "id": "c7fe3889-cfa5-4b7c-a6fa-dd99ac500f67",
   "metadata": {
    "tags": []
   },
   "outputs": [
    {
     "data": {
      "text/html": [
       "<div>\n",
       "<style scoped>\n",
       "    .dataframe tbody tr th:only-of-type {\n",
       "        vertical-align: middle;\n",
       "    }\n",
       "\n",
       "    .dataframe tbody tr th {\n",
       "        vertical-align: top;\n",
       "    }\n",
       "\n",
       "    .dataframe thead th {\n",
       "        text-align: right;\n",
       "    }\n",
       "</style>\n",
       "<table border=\"1\" class=\"dataframe\">\n",
       "  <thead>\n",
       "    <tr style=\"text-align: right;\">\n",
       "      <th></th>\n",
       "      <th>Age</th>\n",
       "      <th>Sex</th>\n",
       "      <th>ECG-Resting</th>\n",
       "      <th>ST-Slope</th>\n",
       "      <th>BloodPressure-Resting</th>\n",
       "      <th>HeartRate-Max</th>\n",
       "      <th>ChestPainType</th>\n",
       "      <th>Cholesterol</th>\n",
       "      <th>BloodSugar-Fasting</th>\n",
       "      <th>ExerciseAngina</th>\n",
       "      <th>OldPeak</th>\n",
       "      <th>SCA</th>\n",
       "      <th>AgeGroup</th>\n",
       "      <th>risk</th>\n",
       "    </tr>\n",
       "  </thead>\n",
       "  <tbody>\n",
       "    <tr>\n",
       "      <th>0</th>\n",
       "      <td>40</td>\n",
       "      <td>M</td>\n",
       "      <td>Normal</td>\n",
       "      <td>Up</td>\n",
       "      <td>140</td>\n",
       "      <td>172</td>\n",
       "      <td>ATA</td>\n",
       "      <td>289</td>\n",
       "      <td>Normal</td>\n",
       "      <td>N</td>\n",
       "      <td>0.0</td>\n",
       "      <td>0</td>\n",
       "      <td>40-59</td>\n",
       "      <td>0.066556</td>\n",
       "    </tr>\n",
       "    <tr>\n",
       "      <th>1</th>\n",
       "      <td>49</td>\n",
       "      <td>F</td>\n",
       "      <td>Normal</td>\n",
       "      <td>Flat</td>\n",
       "      <td>160</td>\n",
       "      <td>156</td>\n",
       "      <td>NAP</td>\n",
       "      <td>180</td>\n",
       "      <td>Normal</td>\n",
       "      <td>N</td>\n",
       "      <td>1.0</td>\n",
       "      <td>1</td>\n",
       "      <td>40-59</td>\n",
       "      <td>0.098790</td>\n",
       "    </tr>\n",
       "    <tr>\n",
       "      <th>2</th>\n",
       "      <td>37</td>\n",
       "      <td>M</td>\n",
       "      <td>ST</td>\n",
       "      <td>Up</td>\n",
       "      <td>130</td>\n",
       "      <td>98</td>\n",
       "      <td>ATA</td>\n",
       "      <td>283</td>\n",
       "      <td>Normal</td>\n",
       "      <td>N</td>\n",
       "      <td>0.0</td>\n",
       "      <td>0</td>\n",
       "      <td>19-39</td>\n",
       "      <td>0.072407</td>\n",
       "    </tr>\n",
       "    <tr>\n",
       "      <th>3</th>\n",
       "      <td>48</td>\n",
       "      <td>F</td>\n",
       "      <td>Normal</td>\n",
       "      <td>Flat</td>\n",
       "      <td>138</td>\n",
       "      <td>108</td>\n",
       "      <td>ASY</td>\n",
       "      <td>214</td>\n",
       "      <td>Normal</td>\n",
       "      <td>Y</td>\n",
       "      <td>1.5</td>\n",
       "      <td>1</td>\n",
       "      <td>40-59</td>\n",
       "      <td>0.104348</td>\n",
       "    </tr>\n",
       "    <tr>\n",
       "      <th>4</th>\n",
       "      <td>54</td>\n",
       "      <td>M</td>\n",
       "      <td>Normal</td>\n",
       "      <td>Up</td>\n",
       "      <td>150</td>\n",
       "      <td>122</td>\n",
       "      <td>NAP</td>\n",
       "      <td>195</td>\n",
       "      <td>Normal</td>\n",
       "      <td>N</td>\n",
       "      <td>0.0</td>\n",
       "      <td>0</td>\n",
       "      <td>40-59</td>\n",
       "      <td>0.115632</td>\n",
       "    </tr>\n",
       "  </tbody>\n",
       "</table>\n",
       "</div>"
      ],
      "text/plain": [
       "   Age Sex ECG-Resting ST-Slope  BloodPressure-Resting  HeartRate-Max  \\\n",
       "0   40   M      Normal       Up                    140            172   \n",
       "1   49   F      Normal     Flat                    160            156   \n",
       "2   37   M          ST       Up                    130             98   \n",
       "3   48   F      Normal     Flat                    138            108   \n",
       "4   54   M      Normal       Up                    150            122   \n",
       "\n",
       "  ChestPainType  Cholesterol BloodSugar-Fasting ExerciseAngina  OldPeak  SCA  \\\n",
       "0           ATA          289             Normal              N      0.0    0   \n",
       "1           NAP          180             Normal              N      1.0    1   \n",
       "2           ATA          283             Normal              N      0.0    0   \n",
       "3           ASY          214             Normal              Y      1.5    1   \n",
       "4           NAP          195             Normal              N      0.0    0   \n",
       "\n",
       "  AgeGroup      risk  \n",
       "0    40-59  0.066556  \n",
       "1    40-59  0.098790  \n",
       "2    19-39  0.072407  \n",
       "3    40-59  0.104348  \n",
       "4    40-59  0.115632  "
      ]
     },
     "execution_count": 21,
     "metadata": {},
     "output_type": "execute_result"
    }
   ],
   "source": [
    "# The formula for risk calculation can be adjusted based on specific requirements or medical insights.\n",
    "\n",
    "heartwell_df[\"risk\"]= heartwell_df[\"Age\"]/(heartwell_df[\"BloodPressure-Resting\"]+heartwell_df[\"Cholesterol\"]+heartwell_df[\"HeartRate-Max\"])\n",
    "heartwell_df.head(5)"
   ]
  },
  {
   "cell_type": "markdown",
   "id": "e49c31ce-bba4-4434-83c5-10c55b798a00",
   "metadata": {
    "tags": []
   },
   "source": [
    "### Outliers"
   ]
  },
  {
   "cell_type": "code",
   "execution_count": 22,
   "id": "4037a55a-5cc9-4ad2-bc30-1bca1e91d95c",
   "metadata": {
    "tags": []
   },
   "outputs": [
    {
     "data": {
      "text/html": [
       "<div>\n",
       "<style scoped>\n",
       "    .dataframe tbody tr th:only-of-type {\n",
       "        vertical-align: middle;\n",
       "    }\n",
       "\n",
       "    .dataframe tbody tr th {\n",
       "        vertical-align: top;\n",
       "    }\n",
       "\n",
       "    .dataframe thead th {\n",
       "        text-align: right;\n",
       "    }\n",
       "</style>\n",
       "<table border=\"1\" class=\"dataframe\">\n",
       "  <thead>\n",
       "    <tr style=\"text-align: right;\">\n",
       "      <th></th>\n",
       "      <th>Age</th>\n",
       "      <th>BloodPressure-Resting</th>\n",
       "      <th>HeartRate-Max</th>\n",
       "      <th>Cholesterol</th>\n",
       "      <th>OldPeak</th>\n",
       "      <th>SCA</th>\n",
       "      <th>risk</th>\n",
       "    </tr>\n",
       "  </thead>\n",
       "  <tbody>\n",
       "    <tr>\n",
       "      <th>0</th>\n",
       "      <td>-1.433140</td>\n",
       "      <td>0.410909</td>\n",
       "      <td>1.382928</td>\n",
       "      <td>0.825070</td>\n",
       "      <td>-0.832432</td>\n",
       "      <td>-1.113115</td>\n",
       "      <td>-1.081028</td>\n",
       "    </tr>\n",
       "    <tr>\n",
       "      <th>1</th>\n",
       "      <td>-0.478484</td>\n",
       "      <td>1.491752</td>\n",
       "      <td>0.754157</td>\n",
       "      <td>-0.171961</td>\n",
       "      <td>0.105664</td>\n",
       "      <td>0.898380</td>\n",
       "      <td>-0.503071</td>\n",
       "    </tr>\n",
       "    <tr>\n",
       "      <th>2</th>\n",
       "      <td>-1.751359</td>\n",
       "      <td>-0.129513</td>\n",
       "      <td>-1.525138</td>\n",
       "      <td>0.770188</td>\n",
       "      <td>-0.832432</td>\n",
       "      <td>-1.113115</td>\n",
       "      <td>-0.976116</td>\n",
       "    </tr>\n",
       "    <tr>\n",
       "      <th>3</th>\n",
       "      <td>-0.584556</td>\n",
       "      <td>0.302825</td>\n",
       "      <td>-1.132156</td>\n",
       "      <td>0.139040</td>\n",
       "      <td>0.574711</td>\n",
       "      <td>0.898380</td>\n",
       "      <td>-0.403427</td>\n",
       "    </tr>\n",
       "    <tr>\n",
       "      <th>4</th>\n",
       "      <td>0.051881</td>\n",
       "      <td>0.951331</td>\n",
       "      <td>-0.581981</td>\n",
       "      <td>-0.034755</td>\n",
       "      <td>-0.832432</td>\n",
       "      <td>-1.113115</td>\n",
       "      <td>-0.201110</td>\n",
       "    </tr>\n",
       "    <tr>\n",
       "      <th>...</th>\n",
       "      <td>...</td>\n",
       "      <td>...</td>\n",
       "      <td>...</td>\n",
       "      <td>...</td>\n",
       "      <td>...</td>\n",
       "      <td>...</td>\n",
       "      <td>...</td>\n",
       "    </tr>\n",
       "    <tr>\n",
       "      <th>913</th>\n",
       "      <td>-0.902775</td>\n",
       "      <td>-1.210356</td>\n",
       "      <td>-0.188999</td>\n",
       "      <td>0.596393</td>\n",
       "      <td>0.293283</td>\n",
       "      <td>0.898380</td>\n",
       "      <td>-0.679814</td>\n",
       "    </tr>\n",
       "    <tr>\n",
       "      <th>914</th>\n",
       "      <td>1.536902</td>\n",
       "      <td>0.627078</td>\n",
       "      <td>0.164684</td>\n",
       "      <td>-0.053049</td>\n",
       "      <td>2.357094</td>\n",
       "      <td>0.898380</td>\n",
       "      <td>0.276317</td>\n",
       "    </tr>\n",
       "    <tr>\n",
       "      <th>915</th>\n",
       "      <td>0.370100</td>\n",
       "      <td>-0.129513</td>\n",
       "      <td>-0.857069</td>\n",
       "      <td>-0.620168</td>\n",
       "      <td>0.293283</td>\n",
       "      <td>0.898380</td>\n",
       "      <td>0.443715</td>\n",
       "    </tr>\n",
       "    <tr>\n",
       "      <th>916</th>\n",
       "      <td>0.370100</td>\n",
       "      <td>-0.129513</td>\n",
       "      <td>1.461525</td>\n",
       "      <td>0.340275</td>\n",
       "      <td>-0.832432</td>\n",
       "      <td>0.898380</td>\n",
       "      <td>-0.381773</td>\n",
       "    </tr>\n",
       "    <tr>\n",
       "      <th>917</th>\n",
       "      <td>-1.645286</td>\n",
       "      <td>0.302825</td>\n",
       "      <td>1.422226</td>\n",
       "      <td>-0.217696</td>\n",
       "      <td>-0.832432</td>\n",
       "      <td>-1.113115</td>\n",
       "      <td>-0.872442</td>\n",
       "    </tr>\n",
       "  </tbody>\n",
       "</table>\n",
       "<p>918 rows × 7 columns</p>\n",
       "</div>"
      ],
      "text/plain": [
       "          Age  BloodPressure-Resting  HeartRate-Max  Cholesterol   OldPeak  \\\n",
       "0   -1.433140               0.410909       1.382928     0.825070 -0.832432   \n",
       "1   -0.478484               1.491752       0.754157    -0.171961  0.105664   \n",
       "2   -1.751359              -0.129513      -1.525138     0.770188 -0.832432   \n",
       "3   -0.584556               0.302825      -1.132156     0.139040  0.574711   \n",
       "4    0.051881               0.951331      -0.581981    -0.034755 -0.832432   \n",
       "..        ...                    ...            ...          ...       ...   \n",
       "913 -0.902775              -1.210356      -0.188999     0.596393  0.293283   \n",
       "914  1.536902               0.627078       0.164684    -0.053049  2.357094   \n",
       "915  0.370100              -0.129513      -0.857069    -0.620168  0.293283   \n",
       "916  0.370100              -0.129513       1.461525     0.340275 -0.832432   \n",
       "917 -1.645286               0.302825       1.422226    -0.217696 -0.832432   \n",
       "\n",
       "          SCA      risk  \n",
       "0   -1.113115 -1.081028  \n",
       "1    0.898380 -0.503071  \n",
       "2   -1.113115 -0.976116  \n",
       "3    0.898380 -0.403427  \n",
       "4   -1.113115 -0.201110  \n",
       "..        ...       ...  \n",
       "913  0.898380 -0.679814  \n",
       "914  0.898380  0.276317  \n",
       "915  0.898380  0.443715  \n",
       "916  0.898380 -0.381773  \n",
       "917 -1.113115 -0.872442  \n",
       "\n",
       "[918 rows x 7 columns]"
      ]
     },
     "execution_count": 22,
     "metadata": {},
     "output_type": "execute_result"
    }
   ],
   "source": [
    "# Calculated Z-scores for numerical features\n",
    "z_scores = zscore(heartwell_df.select_dtypes(include=np.number))\n",
    "z_scores"
   ]
  },
  {
   "cell_type": "code",
   "execution_count": 23,
   "id": "9bc8b373-cd8c-4210-9ef9-1944a8087cd3",
   "metadata": {
    "tags": []
   },
   "outputs": [
    {
     "data": {
      "text/html": [
       "<div>\n",
       "<style scoped>\n",
       "    .dataframe tbody tr th:only-of-type {\n",
       "        vertical-align: middle;\n",
       "    }\n",
       "\n",
       "    .dataframe tbody tr th {\n",
       "        vertical-align: top;\n",
       "    }\n",
       "\n",
       "    .dataframe thead th {\n",
       "        text-align: right;\n",
       "    }\n",
       "</style>\n",
       "<table border=\"1\" class=\"dataframe\">\n",
       "  <thead>\n",
       "    <tr style=\"text-align: right;\">\n",
       "      <th></th>\n",
       "      <th>Age</th>\n",
       "      <th>BloodPressure-Resting</th>\n",
       "      <th>HeartRate-Max</th>\n",
       "      <th>Cholesterol</th>\n",
       "      <th>OldPeak</th>\n",
       "      <th>SCA</th>\n",
       "      <th>risk</th>\n",
       "    </tr>\n",
       "  </thead>\n",
       "  <tbody>\n",
       "    <tr>\n",
       "      <th>0</th>\n",
       "      <td>False</td>\n",
       "      <td>False</td>\n",
       "      <td>False</td>\n",
       "      <td>False</td>\n",
       "      <td>False</td>\n",
       "      <td>False</td>\n",
       "      <td>False</td>\n",
       "    </tr>\n",
       "    <tr>\n",
       "      <th>1</th>\n",
       "      <td>False</td>\n",
       "      <td>False</td>\n",
       "      <td>False</td>\n",
       "      <td>False</td>\n",
       "      <td>False</td>\n",
       "      <td>False</td>\n",
       "      <td>False</td>\n",
       "    </tr>\n",
       "    <tr>\n",
       "      <th>2</th>\n",
       "      <td>False</td>\n",
       "      <td>False</td>\n",
       "      <td>False</td>\n",
       "      <td>False</td>\n",
       "      <td>False</td>\n",
       "      <td>False</td>\n",
       "      <td>False</td>\n",
       "    </tr>\n",
       "    <tr>\n",
       "      <th>3</th>\n",
       "      <td>False</td>\n",
       "      <td>False</td>\n",
       "      <td>False</td>\n",
       "      <td>False</td>\n",
       "      <td>False</td>\n",
       "      <td>False</td>\n",
       "      <td>False</td>\n",
       "    </tr>\n",
       "    <tr>\n",
       "      <th>4</th>\n",
       "      <td>False</td>\n",
       "      <td>False</td>\n",
       "      <td>False</td>\n",
       "      <td>False</td>\n",
       "      <td>False</td>\n",
       "      <td>False</td>\n",
       "      <td>False</td>\n",
       "    </tr>\n",
       "    <tr>\n",
       "      <th>...</th>\n",
       "      <td>...</td>\n",
       "      <td>...</td>\n",
       "      <td>...</td>\n",
       "      <td>...</td>\n",
       "      <td>...</td>\n",
       "      <td>...</td>\n",
       "      <td>...</td>\n",
       "    </tr>\n",
       "    <tr>\n",
       "      <th>913</th>\n",
       "      <td>False</td>\n",
       "      <td>False</td>\n",
       "      <td>False</td>\n",
       "      <td>False</td>\n",
       "      <td>False</td>\n",
       "      <td>False</td>\n",
       "      <td>False</td>\n",
       "    </tr>\n",
       "    <tr>\n",
       "      <th>914</th>\n",
       "      <td>False</td>\n",
       "      <td>False</td>\n",
       "      <td>False</td>\n",
       "      <td>False</td>\n",
       "      <td>False</td>\n",
       "      <td>False</td>\n",
       "      <td>False</td>\n",
       "    </tr>\n",
       "    <tr>\n",
       "      <th>915</th>\n",
       "      <td>False</td>\n",
       "      <td>False</td>\n",
       "      <td>False</td>\n",
       "      <td>False</td>\n",
       "      <td>False</td>\n",
       "      <td>False</td>\n",
       "      <td>False</td>\n",
       "    </tr>\n",
       "    <tr>\n",
       "      <th>916</th>\n",
       "      <td>False</td>\n",
       "      <td>False</td>\n",
       "      <td>False</td>\n",
       "      <td>False</td>\n",
       "      <td>False</td>\n",
       "      <td>False</td>\n",
       "      <td>False</td>\n",
       "    </tr>\n",
       "    <tr>\n",
       "      <th>917</th>\n",
       "      <td>False</td>\n",
       "      <td>False</td>\n",
       "      <td>False</td>\n",
       "      <td>False</td>\n",
       "      <td>False</td>\n",
       "      <td>False</td>\n",
       "      <td>False</td>\n",
       "    </tr>\n",
       "  </tbody>\n",
       "</table>\n",
       "<p>918 rows × 7 columns</p>\n",
       "</div>"
      ],
      "text/plain": [
       "       Age  BloodPressure-Resting  HeartRate-Max  Cholesterol  OldPeak    SCA  \\\n",
       "0    False                  False          False        False    False  False   \n",
       "1    False                  False          False        False    False  False   \n",
       "2    False                  False          False        False    False  False   \n",
       "3    False                  False          False        False    False  False   \n",
       "4    False                  False          False        False    False  False   \n",
       "..     ...                    ...            ...          ...      ...    ...   \n",
       "913  False                  False          False        False    False  False   \n",
       "914  False                  False          False        False    False  False   \n",
       "915  False                  False          False        False    False  False   \n",
       "916  False                  False          False        False    False  False   \n",
       "917  False                  False          False        False    False  False   \n",
       "\n",
       "      risk  \n",
       "0    False  \n",
       "1    False  \n",
       "2    False  \n",
       "3    False  \n",
       "4    False  \n",
       "..     ...  \n",
       "913  False  \n",
       "914  False  \n",
       "915  False  \n",
       "916  False  \n",
       "917  False  \n",
       "\n",
       "[918 rows x 7 columns]"
      ]
     },
     "execution_count": 23,
     "metadata": {},
     "output_type": "execute_result"
    }
   ],
   "source": [
    "# Set a threshold for Z score to catch the outliers\n",
    "threshold = 3\n",
    "outliers = np.abs(z_scores) > threshold\n",
    "outliers"
   ]
  },
  {
   "cell_type": "code",
   "execution_count": 24,
   "id": "6eea5aa0-10fe-4de8-8aff-dcdc09908232",
   "metadata": {
    "tags": []
   },
   "outputs": [
    {
     "data": {
      "text/html": [
       "<div>\n",
       "<style scoped>\n",
       "    .dataframe tbody tr th:only-of-type {\n",
       "        vertical-align: middle;\n",
       "    }\n",
       "\n",
       "    .dataframe tbody tr th {\n",
       "        vertical-align: top;\n",
       "    }\n",
       "\n",
       "    .dataframe thead th {\n",
       "        text-align: right;\n",
       "    }\n",
       "</style>\n",
       "<table border=\"1\" class=\"dataframe\">\n",
       "  <thead>\n",
       "    <tr style=\"text-align: right;\">\n",
       "      <th></th>\n",
       "      <th>Age</th>\n",
       "      <th>Sex</th>\n",
       "      <th>ECG-Resting</th>\n",
       "      <th>ST-Slope</th>\n",
       "      <th>BloodPressure-Resting</th>\n",
       "      <th>HeartRate-Max</th>\n",
       "      <th>ChestPainType</th>\n",
       "      <th>Cholesterol</th>\n",
       "      <th>BloodSugar-Fasting</th>\n",
       "      <th>ExerciseAngina</th>\n",
       "      <th>OldPeak</th>\n",
       "      <th>SCA</th>\n",
       "      <th>AgeGroup</th>\n",
       "      <th>risk</th>\n",
       "    </tr>\n",
       "  </thead>\n",
       "  <tbody>\n",
       "    <tr>\n",
       "      <th>0</th>\n",
       "      <td>40</td>\n",
       "      <td>M</td>\n",
       "      <td>Normal</td>\n",
       "      <td>Up</td>\n",
       "      <td>140</td>\n",
       "      <td>172</td>\n",
       "      <td>ATA</td>\n",
       "      <td>289</td>\n",
       "      <td>Normal</td>\n",
       "      <td>N</td>\n",
       "      <td>0.0</td>\n",
       "      <td>0</td>\n",
       "      <td>40-59</td>\n",
       "      <td>0.066556</td>\n",
       "    </tr>\n",
       "    <tr>\n",
       "      <th>1</th>\n",
       "      <td>49</td>\n",
       "      <td>F</td>\n",
       "      <td>Normal</td>\n",
       "      <td>Flat</td>\n",
       "      <td>160</td>\n",
       "      <td>156</td>\n",
       "      <td>NAP</td>\n",
       "      <td>180</td>\n",
       "      <td>Normal</td>\n",
       "      <td>N</td>\n",
       "      <td>1.0</td>\n",
       "      <td>1</td>\n",
       "      <td>40-59</td>\n",
       "      <td>0.098790</td>\n",
       "    </tr>\n",
       "    <tr>\n",
       "      <th>2</th>\n",
       "      <td>37</td>\n",
       "      <td>M</td>\n",
       "      <td>ST</td>\n",
       "      <td>Up</td>\n",
       "      <td>130</td>\n",
       "      <td>98</td>\n",
       "      <td>ATA</td>\n",
       "      <td>283</td>\n",
       "      <td>Normal</td>\n",
       "      <td>N</td>\n",
       "      <td>0.0</td>\n",
       "      <td>0</td>\n",
       "      <td>19-39</td>\n",
       "      <td>0.072407</td>\n",
       "    </tr>\n",
       "    <tr>\n",
       "      <th>3</th>\n",
       "      <td>48</td>\n",
       "      <td>F</td>\n",
       "      <td>Normal</td>\n",
       "      <td>Flat</td>\n",
       "      <td>138</td>\n",
       "      <td>108</td>\n",
       "      <td>ASY</td>\n",
       "      <td>214</td>\n",
       "      <td>Normal</td>\n",
       "      <td>Y</td>\n",
       "      <td>1.5</td>\n",
       "      <td>1</td>\n",
       "      <td>40-59</td>\n",
       "      <td>0.104348</td>\n",
       "    </tr>\n",
       "    <tr>\n",
       "      <th>4</th>\n",
       "      <td>54</td>\n",
       "      <td>M</td>\n",
       "      <td>Normal</td>\n",
       "      <td>Up</td>\n",
       "      <td>150</td>\n",
       "      <td>122</td>\n",
       "      <td>NAP</td>\n",
       "      <td>195</td>\n",
       "      <td>Normal</td>\n",
       "      <td>N</td>\n",
       "      <td>0.0</td>\n",
       "      <td>0</td>\n",
       "      <td>40-59</td>\n",
       "      <td>0.115632</td>\n",
       "    </tr>\n",
       "    <tr>\n",
       "      <th>...</th>\n",
       "      <td>...</td>\n",
       "      <td>...</td>\n",
       "      <td>...</td>\n",
       "      <td>...</td>\n",
       "      <td>...</td>\n",
       "      <td>...</td>\n",
       "      <td>...</td>\n",
       "      <td>...</td>\n",
       "      <td>...</td>\n",
       "      <td>...</td>\n",
       "      <td>...</td>\n",
       "      <td>...</td>\n",
       "      <td>...</td>\n",
       "      <td>...</td>\n",
       "    </tr>\n",
       "    <tr>\n",
       "      <th>913</th>\n",
       "      <td>45</td>\n",
       "      <td>M</td>\n",
       "      <td>Normal</td>\n",
       "      <td>Flat</td>\n",
       "      <td>110</td>\n",
       "      <td>132</td>\n",
       "      <td>TA</td>\n",
       "      <td>264</td>\n",
       "      <td>Normal</td>\n",
       "      <td>N</td>\n",
       "      <td>1.2</td>\n",
       "      <td>1</td>\n",
       "      <td>40-59</td>\n",
       "      <td>0.088933</td>\n",
       "    </tr>\n",
       "    <tr>\n",
       "      <th>914</th>\n",
       "      <td>68</td>\n",
       "      <td>M</td>\n",
       "      <td>Normal</td>\n",
       "      <td>Flat</td>\n",
       "      <td>144</td>\n",
       "      <td>141</td>\n",
       "      <td>ASY</td>\n",
       "      <td>193</td>\n",
       "      <td>High</td>\n",
       "      <td>N</td>\n",
       "      <td>3.4</td>\n",
       "      <td>1</td>\n",
       "      <td>60-79</td>\n",
       "      <td>0.142259</td>\n",
       "    </tr>\n",
       "    <tr>\n",
       "      <th>915</th>\n",
       "      <td>57</td>\n",
       "      <td>M</td>\n",
       "      <td>Normal</td>\n",
       "      <td>Flat</td>\n",
       "      <td>130</td>\n",
       "      <td>115</td>\n",
       "      <td>ASY</td>\n",
       "      <td>131</td>\n",
       "      <td>Normal</td>\n",
       "      <td>Y</td>\n",
       "      <td>1.2</td>\n",
       "      <td>1</td>\n",
       "      <td>40-59</td>\n",
       "      <td>0.151596</td>\n",
       "    </tr>\n",
       "    <tr>\n",
       "      <th>916</th>\n",
       "      <td>57</td>\n",
       "      <td>F</td>\n",
       "      <td>LVH</td>\n",
       "      <td>Flat</td>\n",
       "      <td>130</td>\n",
       "      <td>174</td>\n",
       "      <td>ATA</td>\n",
       "      <td>236</td>\n",
       "      <td>Normal</td>\n",
       "      <td>N</td>\n",
       "      <td>0.0</td>\n",
       "      <td>1</td>\n",
       "      <td>40-59</td>\n",
       "      <td>0.105556</td>\n",
       "    </tr>\n",
       "    <tr>\n",
       "      <th>917</th>\n",
       "      <td>38</td>\n",
       "      <td>M</td>\n",
       "      <td>Normal</td>\n",
       "      <td>Up</td>\n",
       "      <td>138</td>\n",
       "      <td>173</td>\n",
       "      <td>NAP</td>\n",
       "      <td>175</td>\n",
       "      <td>Normal</td>\n",
       "      <td>N</td>\n",
       "      <td>0.0</td>\n",
       "      <td>0</td>\n",
       "      <td>19-39</td>\n",
       "      <td>0.078189</td>\n",
       "    </tr>\n",
       "  </tbody>\n",
       "</table>\n",
       "<p>891 rows × 14 columns</p>\n",
       "</div>"
      ],
      "text/plain": [
       "     Age Sex ECG-Resting ST-Slope  BloodPressure-Resting  HeartRate-Max  \\\n",
       "0     40   M      Normal       Up                    140            172   \n",
       "1     49   F      Normal     Flat                    160            156   \n",
       "2     37   M          ST       Up                    130             98   \n",
       "3     48   F      Normal     Flat                    138            108   \n",
       "4     54   M      Normal       Up                    150            122   \n",
       "..   ...  ..         ...      ...                    ...            ...   \n",
       "913   45   M      Normal     Flat                    110            132   \n",
       "914   68   M      Normal     Flat                    144            141   \n",
       "915   57   M      Normal     Flat                    130            115   \n",
       "916   57   F         LVH     Flat                    130            174   \n",
       "917   38   M      Normal       Up                    138            173   \n",
       "\n",
       "    ChestPainType  Cholesterol BloodSugar-Fasting ExerciseAngina  OldPeak  \\\n",
       "0             ATA          289             Normal              N      0.0   \n",
       "1             NAP          180             Normal              N      1.0   \n",
       "2             ATA          283             Normal              N      0.0   \n",
       "3             ASY          214             Normal              Y      1.5   \n",
       "4             NAP          195             Normal              N      0.0   \n",
       "..            ...          ...                ...            ...      ...   \n",
       "913            TA          264             Normal              N      1.2   \n",
       "914           ASY          193               High              N      3.4   \n",
       "915           ASY          131             Normal              Y      1.2   \n",
       "916           ATA          236             Normal              N      0.0   \n",
       "917           NAP          175             Normal              N      0.0   \n",
       "\n",
       "     SCA AgeGroup      risk  \n",
       "0      0    40-59  0.066556  \n",
       "1      1    40-59  0.098790  \n",
       "2      0    19-39  0.072407  \n",
       "3      1    40-59  0.104348  \n",
       "4      0    40-59  0.115632  \n",
       "..   ...      ...       ...  \n",
       "913    1    40-59  0.088933  \n",
       "914    1    60-79  0.142259  \n",
       "915    1    40-59  0.151596  \n",
       "916    1    40-59  0.105556  \n",
       "917    0    19-39  0.078189  \n",
       "\n",
       "[891 rows x 14 columns]"
      ]
     },
     "execution_count": 24,
     "metadata": {},
     "output_type": "execute_result"
    }
   ],
   "source": [
    "# Removed outliers\n",
    "df_no_outliers = heartwell_df[~outliers.any(axis=1)]\n",
    "df_no_outliers"
   ]
  },
  {
   "cell_type": "markdown",
   "id": "bb45b0ac-101b-428d-808f-a94362c35830",
   "metadata": {
    "tags": []
   },
   "source": [
    "### Categorical Data Encoding"
   ]
  },
  {
   "cell_type": "code",
   "execution_count": 25,
   "id": "5708c0ce-dd96-4e56-8231-d3ce5a35e1fc",
   "metadata": {
    "tags": []
   },
   "outputs": [
    {
     "data": {
      "text/html": [
       "<div>\n",
       "<style scoped>\n",
       "    .dataframe tbody tr th:only-of-type {\n",
       "        vertical-align: middle;\n",
       "    }\n",
       "\n",
       "    .dataframe tbody tr th {\n",
       "        vertical-align: top;\n",
       "    }\n",
       "\n",
       "    .dataframe thead th {\n",
       "        text-align: right;\n",
       "    }\n",
       "</style>\n",
       "<table border=\"1\" class=\"dataframe\">\n",
       "  <thead>\n",
       "    <tr style=\"text-align: right;\">\n",
       "      <th></th>\n",
       "      <th>Age</th>\n",
       "      <th>BloodPressure-Resting</th>\n",
       "      <th>HeartRate-Max</th>\n",
       "      <th>Cholesterol</th>\n",
       "      <th>OldPeak</th>\n",
       "      <th>SCA</th>\n",
       "      <th>risk</th>\n",
       "      <th>Sex_F</th>\n",
       "      <th>Sex_M</th>\n",
       "      <th>ECG-Resting_LVH</th>\n",
       "      <th>...</th>\n",
       "      <th>ChestPainType_NAP</th>\n",
       "      <th>ChestPainType_TA</th>\n",
       "      <th>BloodSugar-Fasting_High</th>\n",
       "      <th>BloodSugar-Fasting_Normal</th>\n",
       "      <th>ExerciseAngina_N</th>\n",
       "      <th>ExerciseAngina_Y</th>\n",
       "      <th>AgeGroup_19-39</th>\n",
       "      <th>AgeGroup_40-59</th>\n",
       "      <th>AgeGroup_60-79</th>\n",
       "      <th>AgeGroup_80-99</th>\n",
       "    </tr>\n",
       "  </thead>\n",
       "  <tbody>\n",
       "    <tr>\n",
       "      <th>0</th>\n",
       "      <td>40</td>\n",
       "      <td>140</td>\n",
       "      <td>172</td>\n",
       "      <td>289</td>\n",
       "      <td>0.0</td>\n",
       "      <td>0</td>\n",
       "      <td>0.066556</td>\n",
       "      <td>False</td>\n",
       "      <td>True</td>\n",
       "      <td>False</td>\n",
       "      <td>...</td>\n",
       "      <td>False</td>\n",
       "      <td>False</td>\n",
       "      <td>False</td>\n",
       "      <td>True</td>\n",
       "      <td>True</td>\n",
       "      <td>False</td>\n",
       "      <td>False</td>\n",
       "      <td>True</td>\n",
       "      <td>False</td>\n",
       "      <td>False</td>\n",
       "    </tr>\n",
       "    <tr>\n",
       "      <th>1</th>\n",
       "      <td>49</td>\n",
       "      <td>160</td>\n",
       "      <td>156</td>\n",
       "      <td>180</td>\n",
       "      <td>1.0</td>\n",
       "      <td>1</td>\n",
       "      <td>0.098790</td>\n",
       "      <td>True</td>\n",
       "      <td>False</td>\n",
       "      <td>False</td>\n",
       "      <td>...</td>\n",
       "      <td>True</td>\n",
       "      <td>False</td>\n",
       "      <td>False</td>\n",
       "      <td>True</td>\n",
       "      <td>True</td>\n",
       "      <td>False</td>\n",
       "      <td>False</td>\n",
       "      <td>True</td>\n",
       "      <td>False</td>\n",
       "      <td>False</td>\n",
       "    </tr>\n",
       "    <tr>\n",
       "      <th>2</th>\n",
       "      <td>37</td>\n",
       "      <td>130</td>\n",
       "      <td>98</td>\n",
       "      <td>283</td>\n",
       "      <td>0.0</td>\n",
       "      <td>0</td>\n",
       "      <td>0.072407</td>\n",
       "      <td>False</td>\n",
       "      <td>True</td>\n",
       "      <td>False</td>\n",
       "      <td>...</td>\n",
       "      <td>False</td>\n",
       "      <td>False</td>\n",
       "      <td>False</td>\n",
       "      <td>True</td>\n",
       "      <td>True</td>\n",
       "      <td>False</td>\n",
       "      <td>True</td>\n",
       "      <td>False</td>\n",
       "      <td>False</td>\n",
       "      <td>False</td>\n",
       "    </tr>\n",
       "    <tr>\n",
       "      <th>3</th>\n",
       "      <td>48</td>\n",
       "      <td>138</td>\n",
       "      <td>108</td>\n",
       "      <td>214</td>\n",
       "      <td>1.5</td>\n",
       "      <td>1</td>\n",
       "      <td>0.104348</td>\n",
       "      <td>True</td>\n",
       "      <td>False</td>\n",
       "      <td>False</td>\n",
       "      <td>...</td>\n",
       "      <td>False</td>\n",
       "      <td>False</td>\n",
       "      <td>False</td>\n",
       "      <td>True</td>\n",
       "      <td>False</td>\n",
       "      <td>True</td>\n",
       "      <td>False</td>\n",
       "      <td>True</td>\n",
       "      <td>False</td>\n",
       "      <td>False</td>\n",
       "    </tr>\n",
       "    <tr>\n",
       "      <th>4</th>\n",
       "      <td>54</td>\n",
       "      <td>150</td>\n",
       "      <td>122</td>\n",
       "      <td>195</td>\n",
       "      <td>0.0</td>\n",
       "      <td>0</td>\n",
       "      <td>0.115632</td>\n",
       "      <td>False</td>\n",
       "      <td>True</td>\n",
       "      <td>False</td>\n",
       "      <td>...</td>\n",
       "      <td>True</td>\n",
       "      <td>False</td>\n",
       "      <td>False</td>\n",
       "      <td>True</td>\n",
       "      <td>True</td>\n",
       "      <td>False</td>\n",
       "      <td>False</td>\n",
       "      <td>True</td>\n",
       "      <td>False</td>\n",
       "      <td>False</td>\n",
       "    </tr>\n",
       "  </tbody>\n",
       "</table>\n",
       "<p>5 rows × 27 columns</p>\n",
       "</div>"
      ],
      "text/plain": [
       "   Age  BloodPressure-Resting  HeartRate-Max  Cholesterol  OldPeak  SCA  \\\n",
       "0   40                    140            172          289      0.0    0   \n",
       "1   49                    160            156          180      1.0    1   \n",
       "2   37                    130             98          283      0.0    0   \n",
       "3   48                    138            108          214      1.5    1   \n",
       "4   54                    150            122          195      0.0    0   \n",
       "\n",
       "       risk  Sex_F  Sex_M  ECG-Resting_LVH  ...  ChestPainType_NAP  \\\n",
       "0  0.066556  False   True            False  ...              False   \n",
       "1  0.098790   True  False            False  ...               True   \n",
       "2  0.072407  False   True            False  ...              False   \n",
       "3  0.104348   True  False            False  ...              False   \n",
       "4  0.115632  False   True            False  ...               True   \n",
       "\n",
       "   ChestPainType_TA  BloodSugar-Fasting_High  BloodSugar-Fasting_Normal  \\\n",
       "0             False                    False                       True   \n",
       "1             False                    False                       True   \n",
       "2             False                    False                       True   \n",
       "3             False                    False                       True   \n",
       "4             False                    False                       True   \n",
       "\n",
       "   ExerciseAngina_N  ExerciseAngina_Y  AgeGroup_19-39  AgeGroup_40-59  \\\n",
       "0              True             False           False            True   \n",
       "1              True             False           False            True   \n",
       "2              True             False            True           False   \n",
       "3             False              True           False            True   \n",
       "4              True             False           False            True   \n",
       "\n",
       "   AgeGroup_60-79  AgeGroup_80-99  \n",
       "0           False           False  \n",
       "1           False           False  \n",
       "2           False           False  \n",
       "3           False           False  \n",
       "4           False           False  \n",
       "\n",
       "[5 rows x 27 columns]"
      ]
     },
     "execution_count": 25,
     "metadata": {},
     "output_type": "execute_result"
    }
   ],
   "source": [
    "# Categorical Data Encoding:One-Hot Encoding on multiple columns to converts categorical variables into binary columns for each category to create machine learning models\n",
    "df_encoded = pd.get_dummies(df_no_outliers, columns=['Sex','ECG-Resting','ST-Slope','ChestPainType','BloodSugar-Fasting', 'ExerciseAngina','AgeGroup'])\n",
    "df_encoded.head()"
   ]
  },
  {
   "cell_type": "markdown",
   "id": "e3061d38-b3bf-4595-9577-004de60c1038",
   "metadata": {
    "tags": []
   },
   "source": [
    "### Feature Scaling"
   ]
  },
  {
   "cell_type": "code",
   "execution_count": 26,
   "id": "b50b9af9-d7bf-43e5-961a-9c83fd8ff9cf",
   "metadata": {
    "tags": []
   },
   "outputs": [
    {
     "data": {
      "text/html": [
       "<div>\n",
       "<style scoped>\n",
       "    .dataframe tbody tr th:only-of-type {\n",
       "        vertical-align: middle;\n",
       "    }\n",
       "\n",
       "    .dataframe tbody tr th {\n",
       "        vertical-align: top;\n",
       "    }\n",
       "\n",
       "    .dataframe thead th {\n",
       "        text-align: right;\n",
       "    }\n",
       "</style>\n",
       "<table border=\"1\" class=\"dataframe\">\n",
       "  <thead>\n",
       "    <tr style=\"text-align: right;\">\n",
       "      <th></th>\n",
       "      <th>Age</th>\n",
       "      <th>BloodPressure-Resting</th>\n",
       "      <th>HeartRate-Max</th>\n",
       "      <th>Cholesterol</th>\n",
       "      <th>OldPeak</th>\n",
       "      <th>SCA</th>\n",
       "      <th>risk</th>\n",
       "      <th>Sex_F</th>\n",
       "      <th>Sex_M</th>\n",
       "      <th>ECG-Resting_LVH</th>\n",
       "      <th>...</th>\n",
       "      <th>ChestPainType_NAP</th>\n",
       "      <th>ChestPainType_TA</th>\n",
       "      <th>BloodSugar-Fasting_High</th>\n",
       "      <th>BloodSugar-Fasting_Normal</th>\n",
       "      <th>ExerciseAngina_N</th>\n",
       "      <th>ExerciseAngina_Y</th>\n",
       "      <th>AgeGroup_19-39</th>\n",
       "      <th>AgeGroup_40-59</th>\n",
       "      <th>AgeGroup_60-79</th>\n",
       "      <th>AgeGroup_80-99</th>\n",
       "    </tr>\n",
       "  </thead>\n",
       "  <tbody>\n",
       "    <tr>\n",
       "      <th>0</th>\n",
       "      <td>-1.420081</td>\n",
       "      <td>0.460473</td>\n",
       "      <td>172</td>\n",
       "      <td>0.842348</td>\n",
       "      <td>-0.861509</td>\n",
       "      <td>0</td>\n",
       "      <td>0.066556</td>\n",
       "      <td>False</td>\n",
       "      <td>True</td>\n",
       "      <td>False</td>\n",
       "      <td>...</td>\n",
       "      <td>False</td>\n",
       "      <td>False</td>\n",
       "      <td>False</td>\n",
       "      <td>True</td>\n",
       "      <td>True</td>\n",
       "      <td>False</td>\n",
       "      <td>False</td>\n",
       "      <td>True</td>\n",
       "      <td>False</td>\n",
       "      <td>False</td>\n",
       "    </tr>\n",
       "    <tr>\n",
       "      <th>1</th>\n",
       "      <td>-0.466902</td>\n",
       "      <td>1.629032</td>\n",
       "      <td>156</td>\n",
       "      <td>-0.186787</td>\n",
       "      <td>0.132540</td>\n",
       "      <td>1</td>\n",
       "      <td>0.098790</td>\n",
       "      <td>True</td>\n",
       "      <td>False</td>\n",
       "      <td>False</td>\n",
       "      <td>...</td>\n",
       "      <td>True</td>\n",
       "      <td>False</td>\n",
       "      <td>False</td>\n",
       "      <td>True</td>\n",
       "      <td>True</td>\n",
       "      <td>False</td>\n",
       "      <td>False</td>\n",
       "      <td>True</td>\n",
       "      <td>False</td>\n",
       "      <td>False</td>\n",
       "    </tr>\n",
       "    <tr>\n",
       "      <th>2</th>\n",
       "      <td>-1.737808</td>\n",
       "      <td>-0.123807</td>\n",
       "      <td>98</td>\n",
       "      <td>0.785698</td>\n",
       "      <td>-0.861509</td>\n",
       "      <td>0</td>\n",
       "      <td>0.072407</td>\n",
       "      <td>False</td>\n",
       "      <td>True</td>\n",
       "      <td>False</td>\n",
       "      <td>...</td>\n",
       "      <td>False</td>\n",
       "      <td>False</td>\n",
       "      <td>False</td>\n",
       "      <td>True</td>\n",
       "      <td>True</td>\n",
       "      <td>False</td>\n",
       "      <td>True</td>\n",
       "      <td>False</td>\n",
       "      <td>False</td>\n",
       "      <td>False</td>\n",
       "    </tr>\n",
       "    <tr>\n",
       "      <th>3</th>\n",
       "      <td>-0.572811</td>\n",
       "      <td>0.343617</td>\n",
       "      <td>108</td>\n",
       "      <td>0.134228</td>\n",
       "      <td>0.629564</td>\n",
       "      <td>1</td>\n",
       "      <td>0.104348</td>\n",
       "      <td>True</td>\n",
       "      <td>False</td>\n",
       "      <td>False</td>\n",
       "      <td>...</td>\n",
       "      <td>False</td>\n",
       "      <td>False</td>\n",
       "      <td>False</td>\n",
       "      <td>True</td>\n",
       "      <td>False</td>\n",
       "      <td>True</td>\n",
       "      <td>False</td>\n",
       "      <td>True</td>\n",
       "      <td>False</td>\n",
       "      <td>False</td>\n",
       "    </tr>\n",
       "    <tr>\n",
       "      <th>4</th>\n",
       "      <td>0.062642</td>\n",
       "      <td>1.044752</td>\n",
       "      <td>122</td>\n",
       "      <td>-0.045163</td>\n",
       "      <td>-0.861509</td>\n",
       "      <td>0</td>\n",
       "      <td>0.115632</td>\n",
       "      <td>False</td>\n",
       "      <td>True</td>\n",
       "      <td>False</td>\n",
       "      <td>...</td>\n",
       "      <td>True</td>\n",
       "      <td>False</td>\n",
       "      <td>False</td>\n",
       "      <td>True</td>\n",
       "      <td>True</td>\n",
       "      <td>False</td>\n",
       "      <td>False</td>\n",
       "      <td>True</td>\n",
       "      <td>False</td>\n",
       "      <td>False</td>\n",
       "    </tr>\n",
       "    <tr>\n",
       "      <th>...</th>\n",
       "      <td>...</td>\n",
       "      <td>...</td>\n",
       "      <td>...</td>\n",
       "      <td>...</td>\n",
       "      <td>...</td>\n",
       "      <td>...</td>\n",
       "      <td>...</td>\n",
       "      <td>...</td>\n",
       "      <td>...</td>\n",
       "      <td>...</td>\n",
       "      <td>...</td>\n",
       "      <td>...</td>\n",
       "      <td>...</td>\n",
       "      <td>...</td>\n",
       "      <td>...</td>\n",
       "      <td>...</td>\n",
       "      <td>...</td>\n",
       "      <td>...</td>\n",
       "      <td>...</td>\n",
       "      <td>...</td>\n",
       "      <td>...</td>\n",
       "    </tr>\n",
       "    <tr>\n",
       "      <th>913</th>\n",
       "      <td>-0.890537</td>\n",
       "      <td>-1.292366</td>\n",
       "      <td>132</td>\n",
       "      <td>0.606308</td>\n",
       "      <td>0.331350</td>\n",
       "      <td>1</td>\n",
       "      <td>0.088933</td>\n",
       "      <td>False</td>\n",
       "      <td>True</td>\n",
       "      <td>False</td>\n",
       "      <td>...</td>\n",
       "      <td>False</td>\n",
       "      <td>True</td>\n",
       "      <td>False</td>\n",
       "      <td>True</td>\n",
       "      <td>True</td>\n",
       "      <td>False</td>\n",
       "      <td>False</td>\n",
       "      <td>True</td>\n",
       "      <td>False</td>\n",
       "      <td>False</td>\n",
       "    </tr>\n",
       "    <tr>\n",
       "      <th>914</th>\n",
       "      <td>1.545365</td>\n",
       "      <td>0.694185</td>\n",
       "      <td>141</td>\n",
       "      <td>-0.064046</td>\n",
       "      <td>2.518258</td>\n",
       "      <td>1</td>\n",
       "      <td>0.142259</td>\n",
       "      <td>False</td>\n",
       "      <td>True</td>\n",
       "      <td>False</td>\n",
       "      <td>...</td>\n",
       "      <td>False</td>\n",
       "      <td>False</td>\n",
       "      <td>True</td>\n",
       "      <td>False</td>\n",
       "      <td>True</td>\n",
       "      <td>False</td>\n",
       "      <td>False</td>\n",
       "      <td>False</td>\n",
       "      <td>True</td>\n",
       "      <td>False</td>\n",
       "    </tr>\n",
       "    <tr>\n",
       "      <th>915</th>\n",
       "      <td>0.380368</td>\n",
       "      <td>-0.123807</td>\n",
       "      <td>115</td>\n",
       "      <td>-0.649425</td>\n",
       "      <td>0.331350</td>\n",
       "      <td>1</td>\n",
       "      <td>0.151596</td>\n",
       "      <td>False</td>\n",
       "      <td>True</td>\n",
       "      <td>False</td>\n",
       "      <td>...</td>\n",
       "      <td>False</td>\n",
       "      <td>False</td>\n",
       "      <td>False</td>\n",
       "      <td>True</td>\n",
       "      <td>False</td>\n",
       "      <td>True</td>\n",
       "      <td>False</td>\n",
       "      <td>True</td>\n",
       "      <td>False</td>\n",
       "      <td>False</td>\n",
       "    </tr>\n",
       "    <tr>\n",
       "      <th>916</th>\n",
       "      <td>0.380368</td>\n",
       "      <td>-0.123807</td>\n",
       "      <td>174</td>\n",
       "      <td>0.341943</td>\n",
       "      <td>-0.861509</td>\n",
       "      <td>1</td>\n",
       "      <td>0.105556</td>\n",
       "      <td>True</td>\n",
       "      <td>False</td>\n",
       "      <td>True</td>\n",
       "      <td>...</td>\n",
       "      <td>False</td>\n",
       "      <td>False</td>\n",
       "      <td>False</td>\n",
       "      <td>True</td>\n",
       "      <td>True</td>\n",
       "      <td>False</td>\n",
       "      <td>False</td>\n",
       "      <td>True</td>\n",
       "      <td>False</td>\n",
       "      <td>False</td>\n",
       "    </tr>\n",
       "    <tr>\n",
       "      <th>917</th>\n",
       "      <td>-1.631899</td>\n",
       "      <td>0.343617</td>\n",
       "      <td>173</td>\n",
       "      <td>-0.233995</td>\n",
       "      <td>-0.861509</td>\n",
       "      <td>0</td>\n",
       "      <td>0.078189</td>\n",
       "      <td>False</td>\n",
       "      <td>True</td>\n",
       "      <td>False</td>\n",
       "      <td>...</td>\n",
       "      <td>True</td>\n",
       "      <td>False</td>\n",
       "      <td>False</td>\n",
       "      <td>True</td>\n",
       "      <td>True</td>\n",
       "      <td>False</td>\n",
       "      <td>True</td>\n",
       "      <td>False</td>\n",
       "      <td>False</td>\n",
       "      <td>False</td>\n",
       "    </tr>\n",
       "  </tbody>\n",
       "</table>\n",
       "<p>891 rows × 27 columns</p>\n",
       "</div>"
      ],
      "text/plain": [
       "          Age  BloodPressure-Resting  HeartRate-Max  Cholesterol   OldPeak  \\\n",
       "0   -1.420081               0.460473            172     0.842348 -0.861509   \n",
       "1   -0.466902               1.629032            156    -0.186787  0.132540   \n",
       "2   -1.737808              -0.123807             98     0.785698 -0.861509   \n",
       "3   -0.572811               0.343617            108     0.134228  0.629564   \n",
       "4    0.062642               1.044752            122    -0.045163 -0.861509   \n",
       "..        ...                    ...            ...          ...       ...   \n",
       "913 -0.890537              -1.292366            132     0.606308  0.331350   \n",
       "914  1.545365               0.694185            141    -0.064046  2.518258   \n",
       "915  0.380368              -0.123807            115    -0.649425  0.331350   \n",
       "916  0.380368              -0.123807            174     0.341943 -0.861509   \n",
       "917 -1.631899               0.343617            173    -0.233995 -0.861509   \n",
       "\n",
       "     SCA      risk  Sex_F  Sex_M  ECG-Resting_LVH  ...  ChestPainType_NAP  \\\n",
       "0      0  0.066556  False   True            False  ...              False   \n",
       "1      1  0.098790   True  False            False  ...               True   \n",
       "2      0  0.072407  False   True            False  ...              False   \n",
       "3      1  0.104348   True  False            False  ...              False   \n",
       "4      0  0.115632  False   True            False  ...               True   \n",
       "..   ...       ...    ...    ...              ...  ...                ...   \n",
       "913    1  0.088933  False   True            False  ...              False   \n",
       "914    1  0.142259  False   True            False  ...              False   \n",
       "915    1  0.151596  False   True            False  ...              False   \n",
       "916    1  0.105556   True  False             True  ...              False   \n",
       "917    0  0.078189  False   True            False  ...               True   \n",
       "\n",
       "     ChestPainType_TA  BloodSugar-Fasting_High  BloodSugar-Fasting_Normal  \\\n",
       "0               False                    False                       True   \n",
       "1               False                    False                       True   \n",
       "2               False                    False                       True   \n",
       "3               False                    False                       True   \n",
       "4               False                    False                       True   \n",
       "..                ...                      ...                        ...   \n",
       "913              True                    False                       True   \n",
       "914             False                     True                      False   \n",
       "915             False                    False                       True   \n",
       "916             False                    False                       True   \n",
       "917             False                    False                       True   \n",
       "\n",
       "     ExerciseAngina_N  ExerciseAngina_Y  AgeGroup_19-39  AgeGroup_40-59  \\\n",
       "0                True             False           False            True   \n",
       "1                True             False           False            True   \n",
       "2                True             False            True           False   \n",
       "3               False              True           False            True   \n",
       "4                True             False           False            True   \n",
       "..                ...               ...             ...             ...   \n",
       "913              True             False           False            True   \n",
       "914              True             False           False           False   \n",
       "915             False              True           False            True   \n",
       "916              True             False           False            True   \n",
       "917              True             False            True           False   \n",
       "\n",
       "     AgeGroup_60-79  AgeGroup_80-99  \n",
       "0             False           False  \n",
       "1             False           False  \n",
       "2             False           False  \n",
       "3             False           False  \n",
       "4             False           False  \n",
       "..              ...             ...  \n",
       "913           False           False  \n",
       "914            True           False  \n",
       "915           False           False  \n",
       "916           False           False  \n",
       "917           False           False  \n",
       "\n",
       "[891 rows x 27 columns]"
      ]
     },
     "execution_count": 26,
     "metadata": {},
     "output_type": "execute_result"
    }
   ],
   "source": [
    "# Feature Scaling: Standard Scaling (Z-score normalization),Standard scaling is used to transform the data, ensuring that it has a mean of 0 and a standard deviation of 1.\n",
    "\n",
    "# Initialize the StandardScaler\n",
    "scaler = StandardScaler()\n",
    "\n",
    "## Fit and transform the selected features\n",
    "df_encoded[['Age', 'BloodPressure-Resting', 'Cholesterol', 'OldPeak']] = scaler.fit_transform(\n",
    "    df_encoded[['Age', 'BloodPressure-Resting', 'Cholesterol', 'OldPeak']])\n",
    "\n",
    "df_encoded"
   ]
  },
  {
   "cell_type": "markdown",
   "id": "e4d223dc-1a3a-4690-99d4-918b55a01e57",
   "metadata": {},
   "source": [
    "### Build Functions."
   ]
  },
  {
   "cell_type": "code",
   "execution_count": 27,
   "id": "0a84ec53-d697-4ce9-84c8-28ea7adaed4c",
   "metadata": {
    "tags": []
   },
   "outputs": [],
   "source": [
    "# Function for evaluating the model\n",
    "def evaluate_model(model, X_test, y_test, average='weighted'):\n",
    "    y_pred = model.predict(X_test)\n",
    "    acc = accuracy_score(y_test, y_pred)\n",
    "    precision = precision_score(y_test, y_pred, average=average)\n",
    "    recall = recall_score(y_test, y_pred, average=average)\n",
    "    f1 = f1_score(y_test, y_pred, average=average)\n",
    "    scores = cross_val_score(model, X, y, cv=5, scoring='accuracy')\n",
    "    print(f'Accuracy: {acc:.2f}')\n",
    "    print(f'Precision: {precision:.2f}')\n",
    "    print(f'Recall: {recall:.2f}')\n",
    "    print(f'F1-score: {f1:.2f}')\n",
    "    print(f\"{type(model).__name__} Cross-Validation Accuracy: {np.mean(scores):.2f}\")\n",
    "    cm = confusion_matrix(y_test, y_pred)\n",
    "    sns.heatmap(cm, annot=True, fmt='d', cmap='coolwarm')\n",
    "    plt.title('Confusion Matrix')\n",
    "    plt.show()"
   ]
  },
  {
   "cell_type": "markdown",
   "id": "96d17a3e-9503-4a66-a148-581ddc3f6610",
   "metadata": {},
   "source": [
    "## Models Building"
   ]
  },
  {
   "cell_type": "markdown",
   "id": "9b1041f3-8d12-401a-967c-63e4a1175d64",
   "metadata": {},
   "source": [
    "### Decision Tree"
   ]
  },
  {
   "cell_type": "code",
   "execution_count": 28,
   "id": "c3b72e5a-9920-45f3-9cb6-eac24e36ace5",
   "metadata": {
    "tags": []
   },
   "outputs": [],
   "source": [
    "X = df_encoded.drop(\"SCA\", axis=1)\n",
    "y = df_encoded[\"SCA\"]"
   ]
  },
  {
   "cell_type": "code",
   "execution_count": 29,
   "id": "dfd0d95f-c014-4d2a-bc75-75e0e9604663",
   "metadata": {
    "tags": []
   },
   "outputs": [],
   "source": [
    "# splitting data into training and testing sets\n",
    "X_train, X_test, y_train, y_test = train_test_split(X, y, test_size=0.2, random_state=42)"
   ]
  },
  {
   "cell_type": "code",
   "execution_count": 30,
   "id": "998ce0aa-57b5-43da-9ff2-1605ad04490a",
   "metadata": {
    "tags": []
   },
   "outputs": [],
   "source": [
    "X_train = np.array(X_train)\n",
    "X_test = np.array(X_test)\n",
    "y_train = np.array(y_train)\n",
    "y_test = np.array(y_test)"
   ]
  },
  {
   "cell_type": "markdown",
   "id": "521b58ac-9600-4b39-8fb4-4b26154c8a10",
   "metadata": {},
   "source": [
    "### Decision Tree model"
   ]
  },
  {
   "cell_type": "code",
   "execution_count": 31,
   "id": "7e59ce9b-b335-4f46-8436-b48ac1a23192",
   "metadata": {
    "tags": []
   },
   "outputs": [
    {
     "data": {
      "text/html": [
       "<style>#sk-container-id-1 {color: black;}#sk-container-id-1 pre{padding: 0;}#sk-container-id-1 div.sk-toggleable {background-color: white;}#sk-container-id-1 label.sk-toggleable__label {cursor: pointer;display: block;width: 100%;margin-bottom: 0;padding: 0.3em;box-sizing: border-box;text-align: center;}#sk-container-id-1 label.sk-toggleable__label-arrow:before {content: \"▸\";float: left;margin-right: 0.25em;color: #696969;}#sk-container-id-1 label.sk-toggleable__label-arrow:hover:before {color: black;}#sk-container-id-1 div.sk-estimator:hover label.sk-toggleable__label-arrow:before {color: black;}#sk-container-id-1 div.sk-toggleable__content {max-height: 0;max-width: 0;overflow: hidden;text-align: left;background-color: #f0f8ff;}#sk-container-id-1 div.sk-toggleable__content pre {margin: 0.2em;color: black;border-radius: 0.25em;background-color: #f0f8ff;}#sk-container-id-1 input.sk-toggleable__control:checked~div.sk-toggleable__content {max-height: 200px;max-width: 100%;overflow: auto;}#sk-container-id-1 input.sk-toggleable__control:checked~label.sk-toggleable__label-arrow:before {content: \"▾\";}#sk-container-id-1 div.sk-estimator input.sk-toggleable__control:checked~label.sk-toggleable__label {background-color: #d4ebff;}#sk-container-id-1 div.sk-label input.sk-toggleable__control:checked~label.sk-toggleable__label {background-color: #d4ebff;}#sk-container-id-1 input.sk-hidden--visually {border: 0;clip: rect(1px 1px 1px 1px);clip: rect(1px, 1px, 1px, 1px);height: 1px;margin: -1px;overflow: hidden;padding: 0;position: absolute;width: 1px;}#sk-container-id-1 div.sk-estimator {font-family: monospace;background-color: #f0f8ff;border: 1px dotted black;border-radius: 0.25em;box-sizing: border-box;margin-bottom: 0.5em;}#sk-container-id-1 div.sk-estimator:hover {background-color: #d4ebff;}#sk-container-id-1 div.sk-parallel-item::after {content: \"\";width: 100%;border-bottom: 1px solid gray;flex-grow: 1;}#sk-container-id-1 div.sk-label:hover label.sk-toggleable__label {background-color: #d4ebff;}#sk-container-id-1 div.sk-serial::before {content: \"\";position: absolute;border-left: 1px solid gray;box-sizing: border-box;top: 0;bottom: 0;left: 50%;z-index: 0;}#sk-container-id-1 div.sk-serial {display: flex;flex-direction: column;align-items: center;background-color: white;padding-right: 0.2em;padding-left: 0.2em;position: relative;}#sk-container-id-1 div.sk-item {position: relative;z-index: 1;}#sk-container-id-1 div.sk-parallel {display: flex;align-items: stretch;justify-content: center;background-color: white;position: relative;}#sk-container-id-1 div.sk-item::before, #sk-container-id-1 div.sk-parallel-item::before {content: \"\";position: absolute;border-left: 1px solid gray;box-sizing: border-box;top: 0;bottom: 0;left: 50%;z-index: -1;}#sk-container-id-1 div.sk-parallel-item {display: flex;flex-direction: column;z-index: 1;position: relative;background-color: white;}#sk-container-id-1 div.sk-parallel-item:first-child::after {align-self: flex-end;width: 50%;}#sk-container-id-1 div.sk-parallel-item:last-child::after {align-self: flex-start;width: 50%;}#sk-container-id-1 div.sk-parallel-item:only-child::after {width: 0;}#sk-container-id-1 div.sk-dashed-wrapped {border: 1px dashed gray;margin: 0 0.4em 0.5em 0.4em;box-sizing: border-box;padding-bottom: 0.4em;background-color: white;}#sk-container-id-1 div.sk-label label {font-family: monospace;font-weight: bold;display: inline-block;line-height: 1.2em;}#sk-container-id-1 div.sk-label-container {text-align: center;}#sk-container-id-1 div.sk-container {/* jupyter's `normalize.less` sets `[hidden] { display: none; }` but bootstrap.min.css set `[hidden] { display: none !important; }` so we also need the `!important` here to be able to override the default hidden behavior on the sphinx rendered scikit-learn.org. See: https://github.com/scikit-learn/scikit-learn/issues/21755 */display: inline-block !important;position: relative;}#sk-container-id-1 div.sk-text-repr-fallback {display: none;}</style><div id=\"sk-container-id-1\" class=\"sk-top-container\"><div class=\"sk-text-repr-fallback\"><pre>DecisionTreeClassifier(random_state=42)</pre><b>In a Jupyter environment, please rerun this cell to show the HTML representation or trust the notebook. <br />On GitHub, the HTML representation is unable to render, please try loading this page with nbviewer.org.</b></div><div class=\"sk-container\" hidden><div class=\"sk-item\"><div class=\"sk-estimator sk-toggleable\"><input class=\"sk-toggleable__control sk-hidden--visually\" id=\"sk-estimator-id-1\" type=\"checkbox\" checked><label for=\"sk-estimator-id-1\" class=\"sk-toggleable__label sk-toggleable__label-arrow\">DecisionTreeClassifier</label><div class=\"sk-toggleable__content\"><pre>DecisionTreeClassifier(random_state=42)</pre></div></div></div></div></div>"
      ],
      "text/plain": [
       "DecisionTreeClassifier(random_state=42)"
      ]
     },
     "execution_count": 31,
     "metadata": {},
     "output_type": "execute_result"
    }
   ],
   "source": [
    "#Initialize the Decision Tree classifier\n",
    "dt_model = DecisionTreeClassifier(random_state=42)\n",
    "\n",
    "#Train the Decision Tree model on the training data\n",
    "dt_model.fit(X_train, y_train)\n",
    "dt_model"
   ]
  },
  {
   "cell_type": "markdown",
   "id": "70c84803-a9b2-4ab8-94e9-8dc3e97ae559",
   "metadata": {
    "tags": []
   },
   "source": [
    "### Random Forest"
   ]
  },
  {
   "cell_type": "code",
   "execution_count": 32,
   "id": "eb1ee499-73c9-497f-8ba0-2f2565be69ec",
   "metadata": {
    "tags": []
   },
   "outputs": [
    {
     "data": {
      "text/html": [
       "<style>#sk-container-id-2 {color: black;}#sk-container-id-2 pre{padding: 0;}#sk-container-id-2 div.sk-toggleable {background-color: white;}#sk-container-id-2 label.sk-toggleable__label {cursor: pointer;display: block;width: 100%;margin-bottom: 0;padding: 0.3em;box-sizing: border-box;text-align: center;}#sk-container-id-2 label.sk-toggleable__label-arrow:before {content: \"▸\";float: left;margin-right: 0.25em;color: #696969;}#sk-container-id-2 label.sk-toggleable__label-arrow:hover:before {color: black;}#sk-container-id-2 div.sk-estimator:hover label.sk-toggleable__label-arrow:before {color: black;}#sk-container-id-2 div.sk-toggleable__content {max-height: 0;max-width: 0;overflow: hidden;text-align: left;background-color: #f0f8ff;}#sk-container-id-2 div.sk-toggleable__content pre {margin: 0.2em;color: black;border-radius: 0.25em;background-color: #f0f8ff;}#sk-container-id-2 input.sk-toggleable__control:checked~div.sk-toggleable__content {max-height: 200px;max-width: 100%;overflow: auto;}#sk-container-id-2 input.sk-toggleable__control:checked~label.sk-toggleable__label-arrow:before {content: \"▾\";}#sk-container-id-2 div.sk-estimator input.sk-toggleable__control:checked~label.sk-toggleable__label {background-color: #d4ebff;}#sk-container-id-2 div.sk-label input.sk-toggleable__control:checked~label.sk-toggleable__label {background-color: #d4ebff;}#sk-container-id-2 input.sk-hidden--visually {border: 0;clip: rect(1px 1px 1px 1px);clip: rect(1px, 1px, 1px, 1px);height: 1px;margin: -1px;overflow: hidden;padding: 0;position: absolute;width: 1px;}#sk-container-id-2 div.sk-estimator {font-family: monospace;background-color: #f0f8ff;border: 1px dotted black;border-radius: 0.25em;box-sizing: border-box;margin-bottom: 0.5em;}#sk-container-id-2 div.sk-estimator:hover {background-color: #d4ebff;}#sk-container-id-2 div.sk-parallel-item::after {content: \"\";width: 100%;border-bottom: 1px solid gray;flex-grow: 1;}#sk-container-id-2 div.sk-label:hover label.sk-toggleable__label {background-color: #d4ebff;}#sk-container-id-2 div.sk-serial::before {content: \"\";position: absolute;border-left: 1px solid gray;box-sizing: border-box;top: 0;bottom: 0;left: 50%;z-index: 0;}#sk-container-id-2 div.sk-serial {display: flex;flex-direction: column;align-items: center;background-color: white;padding-right: 0.2em;padding-left: 0.2em;position: relative;}#sk-container-id-2 div.sk-item {position: relative;z-index: 1;}#sk-container-id-2 div.sk-parallel {display: flex;align-items: stretch;justify-content: center;background-color: white;position: relative;}#sk-container-id-2 div.sk-item::before, #sk-container-id-2 div.sk-parallel-item::before {content: \"\";position: absolute;border-left: 1px solid gray;box-sizing: border-box;top: 0;bottom: 0;left: 50%;z-index: -1;}#sk-container-id-2 div.sk-parallel-item {display: flex;flex-direction: column;z-index: 1;position: relative;background-color: white;}#sk-container-id-2 div.sk-parallel-item:first-child::after {align-self: flex-end;width: 50%;}#sk-container-id-2 div.sk-parallel-item:last-child::after {align-self: flex-start;width: 50%;}#sk-container-id-2 div.sk-parallel-item:only-child::after {width: 0;}#sk-container-id-2 div.sk-dashed-wrapped {border: 1px dashed gray;margin: 0 0.4em 0.5em 0.4em;box-sizing: border-box;padding-bottom: 0.4em;background-color: white;}#sk-container-id-2 div.sk-label label {font-family: monospace;font-weight: bold;display: inline-block;line-height: 1.2em;}#sk-container-id-2 div.sk-label-container {text-align: center;}#sk-container-id-2 div.sk-container {/* jupyter's `normalize.less` sets `[hidden] { display: none; }` but bootstrap.min.css set `[hidden] { display: none !important; }` so we also need the `!important` here to be able to override the default hidden behavior on the sphinx rendered scikit-learn.org. See: https://github.com/scikit-learn/scikit-learn/issues/21755 */display: inline-block !important;position: relative;}#sk-container-id-2 div.sk-text-repr-fallback {display: none;}</style><div id=\"sk-container-id-2\" class=\"sk-top-container\"><div class=\"sk-text-repr-fallback\"><pre>RandomForestClassifier(random_state=42)</pre><b>In a Jupyter environment, please rerun this cell to show the HTML representation or trust the notebook. <br />On GitHub, the HTML representation is unable to render, please try loading this page with nbviewer.org.</b></div><div class=\"sk-container\" hidden><div class=\"sk-item\"><div class=\"sk-estimator sk-toggleable\"><input class=\"sk-toggleable__control sk-hidden--visually\" id=\"sk-estimator-id-2\" type=\"checkbox\" checked><label for=\"sk-estimator-id-2\" class=\"sk-toggleable__label sk-toggleable__label-arrow\">RandomForestClassifier</label><div class=\"sk-toggleable__content\"><pre>RandomForestClassifier(random_state=42)</pre></div></div></div></div></div>"
      ],
      "text/plain": [
       "RandomForestClassifier(random_state=42)"
      ]
     },
     "execution_count": 32,
     "metadata": {},
     "output_type": "execute_result"
    }
   ],
   "source": [
    "# Initialize the Random Forest classifier\n",
    "rf_model = RandomForestClassifier(random_state=42)\n",
    "\n",
    "# Train the Random Forest model on the training data\n",
    "rf_model.fit(X_train, y_train)"
   ]
  },
  {
   "cell_type": "markdown",
   "id": "63542229-e2ed-41ad-9879-0569bb102b37",
   "metadata": {
    "tags": []
   },
   "source": [
    "### Support Vector Machine"
   ]
  },
  {
   "cell_type": "code",
   "execution_count": 33,
   "id": "b33d530b-e5c1-4628-b8dc-9ad8caa08b3c",
   "metadata": {
    "tags": []
   },
   "outputs": [
    {
     "data": {
      "text/html": [
       "<style>#sk-container-id-3 {color: black;}#sk-container-id-3 pre{padding: 0;}#sk-container-id-3 div.sk-toggleable {background-color: white;}#sk-container-id-3 label.sk-toggleable__label {cursor: pointer;display: block;width: 100%;margin-bottom: 0;padding: 0.3em;box-sizing: border-box;text-align: center;}#sk-container-id-3 label.sk-toggleable__label-arrow:before {content: \"▸\";float: left;margin-right: 0.25em;color: #696969;}#sk-container-id-3 label.sk-toggleable__label-arrow:hover:before {color: black;}#sk-container-id-3 div.sk-estimator:hover label.sk-toggleable__label-arrow:before {color: black;}#sk-container-id-3 div.sk-toggleable__content {max-height: 0;max-width: 0;overflow: hidden;text-align: left;background-color: #f0f8ff;}#sk-container-id-3 div.sk-toggleable__content pre {margin: 0.2em;color: black;border-radius: 0.25em;background-color: #f0f8ff;}#sk-container-id-3 input.sk-toggleable__control:checked~div.sk-toggleable__content {max-height: 200px;max-width: 100%;overflow: auto;}#sk-container-id-3 input.sk-toggleable__control:checked~label.sk-toggleable__label-arrow:before {content: \"▾\";}#sk-container-id-3 div.sk-estimator input.sk-toggleable__control:checked~label.sk-toggleable__label {background-color: #d4ebff;}#sk-container-id-3 div.sk-label input.sk-toggleable__control:checked~label.sk-toggleable__label {background-color: #d4ebff;}#sk-container-id-3 input.sk-hidden--visually {border: 0;clip: rect(1px 1px 1px 1px);clip: rect(1px, 1px, 1px, 1px);height: 1px;margin: -1px;overflow: hidden;padding: 0;position: absolute;width: 1px;}#sk-container-id-3 div.sk-estimator {font-family: monospace;background-color: #f0f8ff;border: 1px dotted black;border-radius: 0.25em;box-sizing: border-box;margin-bottom: 0.5em;}#sk-container-id-3 div.sk-estimator:hover {background-color: #d4ebff;}#sk-container-id-3 div.sk-parallel-item::after {content: \"\";width: 100%;border-bottom: 1px solid gray;flex-grow: 1;}#sk-container-id-3 div.sk-label:hover label.sk-toggleable__label {background-color: #d4ebff;}#sk-container-id-3 div.sk-serial::before {content: \"\";position: absolute;border-left: 1px solid gray;box-sizing: border-box;top: 0;bottom: 0;left: 50%;z-index: 0;}#sk-container-id-3 div.sk-serial {display: flex;flex-direction: column;align-items: center;background-color: white;padding-right: 0.2em;padding-left: 0.2em;position: relative;}#sk-container-id-3 div.sk-item {position: relative;z-index: 1;}#sk-container-id-3 div.sk-parallel {display: flex;align-items: stretch;justify-content: center;background-color: white;position: relative;}#sk-container-id-3 div.sk-item::before, #sk-container-id-3 div.sk-parallel-item::before {content: \"\";position: absolute;border-left: 1px solid gray;box-sizing: border-box;top: 0;bottom: 0;left: 50%;z-index: -1;}#sk-container-id-3 div.sk-parallel-item {display: flex;flex-direction: column;z-index: 1;position: relative;background-color: white;}#sk-container-id-3 div.sk-parallel-item:first-child::after {align-self: flex-end;width: 50%;}#sk-container-id-3 div.sk-parallel-item:last-child::after {align-self: flex-start;width: 50%;}#sk-container-id-3 div.sk-parallel-item:only-child::after {width: 0;}#sk-container-id-3 div.sk-dashed-wrapped {border: 1px dashed gray;margin: 0 0.4em 0.5em 0.4em;box-sizing: border-box;padding-bottom: 0.4em;background-color: white;}#sk-container-id-3 div.sk-label label {font-family: monospace;font-weight: bold;display: inline-block;line-height: 1.2em;}#sk-container-id-3 div.sk-label-container {text-align: center;}#sk-container-id-3 div.sk-container {/* jupyter's `normalize.less` sets `[hidden] { display: none; }` but bootstrap.min.css set `[hidden] { display: none !important; }` so we also need the `!important` here to be able to override the default hidden behavior on the sphinx rendered scikit-learn.org. See: https://github.com/scikit-learn/scikit-learn/issues/21755 */display: inline-block !important;position: relative;}#sk-container-id-3 div.sk-text-repr-fallback {display: none;}</style><div id=\"sk-container-id-3\" class=\"sk-top-container\"><div class=\"sk-text-repr-fallback\"><pre>SVC(random_state=42)</pre><b>In a Jupyter environment, please rerun this cell to show the HTML representation or trust the notebook. <br />On GitHub, the HTML representation is unable to render, please try loading this page with nbviewer.org.</b></div><div class=\"sk-container\" hidden><div class=\"sk-item\"><div class=\"sk-estimator sk-toggleable\"><input class=\"sk-toggleable__control sk-hidden--visually\" id=\"sk-estimator-id-3\" type=\"checkbox\" checked><label for=\"sk-estimator-id-3\" class=\"sk-toggleable__label sk-toggleable__label-arrow\">SVC</label><div class=\"sk-toggleable__content\"><pre>SVC(random_state=42)</pre></div></div></div></div></div>"
      ],
      "text/plain": [
       "SVC(random_state=42)"
      ]
     },
     "execution_count": 33,
     "metadata": {},
     "output_type": "execute_result"
    }
   ],
   "source": [
    "# Initialize the SVM classifier\n",
    "svm_model = SVC(random_state=42)\n",
    "\n",
    "# Train the Support Vector Machine model on the training data\n",
    "svm_model.fit(X_train, y_train)"
   ]
  },
  {
   "cell_type": "markdown",
   "id": "2e7a7dd3-4dce-4755-850d-8d93ae138b7c",
   "metadata": {},
   "source": [
    "### K Nearest Neighbors"
   ]
  },
  {
   "cell_type": "code",
   "execution_count": 34,
   "id": "3b906dac-77c7-451a-8ab0-70decdbe2b47",
   "metadata": {
    "tags": []
   },
   "outputs": [
    {
     "data": {
      "text/html": [
       "<style>#sk-container-id-4 {color: black;}#sk-container-id-4 pre{padding: 0;}#sk-container-id-4 div.sk-toggleable {background-color: white;}#sk-container-id-4 label.sk-toggleable__label {cursor: pointer;display: block;width: 100%;margin-bottom: 0;padding: 0.3em;box-sizing: border-box;text-align: center;}#sk-container-id-4 label.sk-toggleable__label-arrow:before {content: \"▸\";float: left;margin-right: 0.25em;color: #696969;}#sk-container-id-4 label.sk-toggleable__label-arrow:hover:before {color: black;}#sk-container-id-4 div.sk-estimator:hover label.sk-toggleable__label-arrow:before {color: black;}#sk-container-id-4 div.sk-toggleable__content {max-height: 0;max-width: 0;overflow: hidden;text-align: left;background-color: #f0f8ff;}#sk-container-id-4 div.sk-toggleable__content pre {margin: 0.2em;color: black;border-radius: 0.25em;background-color: #f0f8ff;}#sk-container-id-4 input.sk-toggleable__control:checked~div.sk-toggleable__content {max-height: 200px;max-width: 100%;overflow: auto;}#sk-container-id-4 input.sk-toggleable__control:checked~label.sk-toggleable__label-arrow:before {content: \"▾\";}#sk-container-id-4 div.sk-estimator input.sk-toggleable__control:checked~label.sk-toggleable__label {background-color: #d4ebff;}#sk-container-id-4 div.sk-label input.sk-toggleable__control:checked~label.sk-toggleable__label {background-color: #d4ebff;}#sk-container-id-4 input.sk-hidden--visually {border: 0;clip: rect(1px 1px 1px 1px);clip: rect(1px, 1px, 1px, 1px);height: 1px;margin: -1px;overflow: hidden;padding: 0;position: absolute;width: 1px;}#sk-container-id-4 div.sk-estimator {font-family: monospace;background-color: #f0f8ff;border: 1px dotted black;border-radius: 0.25em;box-sizing: border-box;margin-bottom: 0.5em;}#sk-container-id-4 div.sk-estimator:hover {background-color: #d4ebff;}#sk-container-id-4 div.sk-parallel-item::after {content: \"\";width: 100%;border-bottom: 1px solid gray;flex-grow: 1;}#sk-container-id-4 div.sk-label:hover label.sk-toggleable__label {background-color: #d4ebff;}#sk-container-id-4 div.sk-serial::before {content: \"\";position: absolute;border-left: 1px solid gray;box-sizing: border-box;top: 0;bottom: 0;left: 50%;z-index: 0;}#sk-container-id-4 div.sk-serial {display: flex;flex-direction: column;align-items: center;background-color: white;padding-right: 0.2em;padding-left: 0.2em;position: relative;}#sk-container-id-4 div.sk-item {position: relative;z-index: 1;}#sk-container-id-4 div.sk-parallel {display: flex;align-items: stretch;justify-content: center;background-color: white;position: relative;}#sk-container-id-4 div.sk-item::before, #sk-container-id-4 div.sk-parallel-item::before {content: \"\";position: absolute;border-left: 1px solid gray;box-sizing: border-box;top: 0;bottom: 0;left: 50%;z-index: -1;}#sk-container-id-4 div.sk-parallel-item {display: flex;flex-direction: column;z-index: 1;position: relative;background-color: white;}#sk-container-id-4 div.sk-parallel-item:first-child::after {align-self: flex-end;width: 50%;}#sk-container-id-4 div.sk-parallel-item:last-child::after {align-self: flex-start;width: 50%;}#sk-container-id-4 div.sk-parallel-item:only-child::after {width: 0;}#sk-container-id-4 div.sk-dashed-wrapped {border: 1px dashed gray;margin: 0 0.4em 0.5em 0.4em;box-sizing: border-box;padding-bottom: 0.4em;background-color: white;}#sk-container-id-4 div.sk-label label {font-family: monospace;font-weight: bold;display: inline-block;line-height: 1.2em;}#sk-container-id-4 div.sk-label-container {text-align: center;}#sk-container-id-4 div.sk-container {/* jupyter's `normalize.less` sets `[hidden] { display: none; }` but bootstrap.min.css set `[hidden] { display: none !important; }` so we also need the `!important` here to be able to override the default hidden behavior on the sphinx rendered scikit-learn.org. See: https://github.com/scikit-learn/scikit-learn/issues/21755 */display: inline-block !important;position: relative;}#sk-container-id-4 div.sk-text-repr-fallback {display: none;}</style><div id=\"sk-container-id-4\" class=\"sk-top-container\"><div class=\"sk-text-repr-fallback\"><pre>KNeighborsClassifier()</pre><b>In a Jupyter environment, please rerun this cell to show the HTML representation or trust the notebook. <br />On GitHub, the HTML representation is unable to render, please try loading this page with nbviewer.org.</b></div><div class=\"sk-container\" hidden><div class=\"sk-item\"><div class=\"sk-estimator sk-toggleable\"><input class=\"sk-toggleable__control sk-hidden--visually\" id=\"sk-estimator-id-4\" type=\"checkbox\" checked><label for=\"sk-estimator-id-4\" class=\"sk-toggleable__label sk-toggleable__label-arrow\">KNeighborsClassifier</label><div class=\"sk-toggleable__content\"><pre>KNeighborsClassifier()</pre></div></div></div></div></div>"
      ],
      "text/plain": [
       "KNeighborsClassifier()"
      ]
     },
     "execution_count": 34,
     "metadata": {},
     "output_type": "execute_result"
    }
   ],
   "source": [
    "#Initialize the KNeighborsClassifier\n",
    "knn_model = KNeighborsClassifier(n_neighbors=5)\n",
    "\n",
    "# Train the model on the training data\n",
    "knn_model.fit(X_train, y_train)"
   ]
  },
  {
   "cell_type": "markdown",
   "id": "00bae778-5fd7-49ac-b3de-98ac1fe6e3cd",
   "metadata": {},
   "source": [
    "### Gradient Boosting"
   ]
  },
  {
   "cell_type": "code",
   "execution_count": 35,
   "id": "e4f4cea6-53b8-4404-8f00-95cb50f91b37",
   "metadata": {
    "tags": []
   },
   "outputs": [
    {
     "data": {
      "text/html": [
       "<style>#sk-container-id-5 {color: black;}#sk-container-id-5 pre{padding: 0;}#sk-container-id-5 div.sk-toggleable {background-color: white;}#sk-container-id-5 label.sk-toggleable__label {cursor: pointer;display: block;width: 100%;margin-bottom: 0;padding: 0.3em;box-sizing: border-box;text-align: center;}#sk-container-id-5 label.sk-toggleable__label-arrow:before {content: \"▸\";float: left;margin-right: 0.25em;color: #696969;}#sk-container-id-5 label.sk-toggleable__label-arrow:hover:before {color: black;}#sk-container-id-5 div.sk-estimator:hover label.sk-toggleable__label-arrow:before {color: black;}#sk-container-id-5 div.sk-toggleable__content {max-height: 0;max-width: 0;overflow: hidden;text-align: left;background-color: #f0f8ff;}#sk-container-id-5 div.sk-toggleable__content pre {margin: 0.2em;color: black;border-radius: 0.25em;background-color: #f0f8ff;}#sk-container-id-5 input.sk-toggleable__control:checked~div.sk-toggleable__content {max-height: 200px;max-width: 100%;overflow: auto;}#sk-container-id-5 input.sk-toggleable__control:checked~label.sk-toggleable__label-arrow:before {content: \"▾\";}#sk-container-id-5 div.sk-estimator input.sk-toggleable__control:checked~label.sk-toggleable__label {background-color: #d4ebff;}#sk-container-id-5 div.sk-label input.sk-toggleable__control:checked~label.sk-toggleable__label {background-color: #d4ebff;}#sk-container-id-5 input.sk-hidden--visually {border: 0;clip: rect(1px 1px 1px 1px);clip: rect(1px, 1px, 1px, 1px);height: 1px;margin: -1px;overflow: hidden;padding: 0;position: absolute;width: 1px;}#sk-container-id-5 div.sk-estimator {font-family: monospace;background-color: #f0f8ff;border: 1px dotted black;border-radius: 0.25em;box-sizing: border-box;margin-bottom: 0.5em;}#sk-container-id-5 div.sk-estimator:hover {background-color: #d4ebff;}#sk-container-id-5 div.sk-parallel-item::after {content: \"\";width: 100%;border-bottom: 1px solid gray;flex-grow: 1;}#sk-container-id-5 div.sk-label:hover label.sk-toggleable__label {background-color: #d4ebff;}#sk-container-id-5 div.sk-serial::before {content: \"\";position: absolute;border-left: 1px solid gray;box-sizing: border-box;top: 0;bottom: 0;left: 50%;z-index: 0;}#sk-container-id-5 div.sk-serial {display: flex;flex-direction: column;align-items: center;background-color: white;padding-right: 0.2em;padding-left: 0.2em;position: relative;}#sk-container-id-5 div.sk-item {position: relative;z-index: 1;}#sk-container-id-5 div.sk-parallel {display: flex;align-items: stretch;justify-content: center;background-color: white;position: relative;}#sk-container-id-5 div.sk-item::before, #sk-container-id-5 div.sk-parallel-item::before {content: \"\";position: absolute;border-left: 1px solid gray;box-sizing: border-box;top: 0;bottom: 0;left: 50%;z-index: -1;}#sk-container-id-5 div.sk-parallel-item {display: flex;flex-direction: column;z-index: 1;position: relative;background-color: white;}#sk-container-id-5 div.sk-parallel-item:first-child::after {align-self: flex-end;width: 50%;}#sk-container-id-5 div.sk-parallel-item:last-child::after {align-self: flex-start;width: 50%;}#sk-container-id-5 div.sk-parallel-item:only-child::after {width: 0;}#sk-container-id-5 div.sk-dashed-wrapped {border: 1px dashed gray;margin: 0 0.4em 0.5em 0.4em;box-sizing: border-box;padding-bottom: 0.4em;background-color: white;}#sk-container-id-5 div.sk-label label {font-family: monospace;font-weight: bold;display: inline-block;line-height: 1.2em;}#sk-container-id-5 div.sk-label-container {text-align: center;}#sk-container-id-5 div.sk-container {/* jupyter's `normalize.less` sets `[hidden] { display: none; }` but bootstrap.min.css set `[hidden] { display: none !important; }` so we also need the `!important` here to be able to override the default hidden behavior on the sphinx rendered scikit-learn.org. See: https://github.com/scikit-learn/scikit-learn/issues/21755 */display: inline-block !important;position: relative;}#sk-container-id-5 div.sk-text-repr-fallback {display: none;}</style><div id=\"sk-container-id-5\" class=\"sk-top-container\"><div class=\"sk-text-repr-fallback\"><pre>GradientBoostingClassifier(random_state=42)</pre><b>In a Jupyter environment, please rerun this cell to show the HTML representation or trust the notebook. <br />On GitHub, the HTML representation is unable to render, please try loading this page with nbviewer.org.</b></div><div class=\"sk-container\" hidden><div class=\"sk-item\"><div class=\"sk-estimator sk-toggleable\"><input class=\"sk-toggleable__control sk-hidden--visually\" id=\"sk-estimator-id-5\" type=\"checkbox\" checked><label for=\"sk-estimator-id-5\" class=\"sk-toggleable__label sk-toggleable__label-arrow\">GradientBoostingClassifier</label><div class=\"sk-toggleable__content\"><pre>GradientBoostingClassifier(random_state=42)</pre></div></div></div></div></div>"
      ],
      "text/plain": [
       "GradientBoostingClassifier(random_state=42)"
      ]
     },
     "execution_count": 35,
     "metadata": {},
     "output_type": "execute_result"
    }
   ],
   "source": [
    "# Initialize the Gradient Boosting classifier\n",
    "gb_model = GradientBoostingClassifier(random_state=42)\n",
    "\n",
    "# Train the model on the training data\n",
    "gb_model.fit(X_train, y_train)"
   ]
  },
  {
   "cell_type": "markdown",
   "id": "1bf263a9-c90a-4690-9820-74b53187f8a3",
   "metadata": {
    "tags": []
   },
   "source": [
    "## Models Evaluation and Comparisions"
   ]
  },
  {
   "cell_type": "markdown",
   "id": "dc9eb7db-f73b-414d-80f7-3deefec01922",
   "metadata": {},
   "source": [
    "### Decision Tree Evaluation"
   ]
  },
  {
   "cell_type": "code",
   "execution_count": 36,
   "id": "dc93f16a-beb0-4401-962e-693134d72966",
   "metadata": {
    "tags": []
   },
   "outputs": [
    {
     "name": "stdout",
     "output_type": "stream",
     "text": [
      "Accuracy: 0.79\n",
      "Precision: 0.79\n",
      "Recall: 0.79\n",
      "F1-score: 0.79\n",
      "DecisionTreeClassifier Cross-Validation Accuracy: 0.75\n"
     ]
    },
    {
     "data": {
      "image/png": "[encoded data removed]",
      "text/plain": [
       "<Figure size 640x480 with 2 Axes>"
      ]
     },
     "metadata": {},
     "output_type": "display_data"
    }
   ],
   "source": [
    "# Make predictions on the test data\n",
    "evaluate_model(dt_model, X_test, y_test, average='weighted')"
   ]
  },
  {
   "cell_type": "markdown",
   "id": "6e303e4f-add7-4c4a-a589-0d6ee0052de1",
   "metadata": {
    "tags": []
   },
   "source": [
    "### Random Forest Evaluation"
   ]
  },
  {
   "cell_type": "code",
   "execution_count": 37,
   "id": "6cdc73a1-5423-4c55-ac94-7c7d8e42f3ae",
   "metadata": {
    "tags": []
   },
   "outputs": [
    {
     "name": "stdout",
     "output_type": "stream",
     "text": [
      "Accuracy: 0.90\n",
      "Precision: 0.90\n",
      "Recall: 0.90\n",
      "F1-score: 0.90\n",
      "RandomForestClassifier Cross-Validation Accuracy: 0.82\n"
     ]
    },
    {
     "data": {
      "image/png": "[encoded data removed]",
      "text/plain": [
       "<Figure size 640x480 with 2 Axes>"
      ]
     },
     "metadata": {},
     "output_type": "display_data"
    }
   ],
   "source": [
    "# Make predictions on the test data\n",
    "evaluate_model(rf_model, X_test, y_test)"
   ]
  },
  {
   "cell_type": "markdown",
   "id": "39be1cd1-9491-41a9-a874-b136f6ef4750",
   "metadata": {},
   "source": [
    "### Support Vector Machine Evaluation"
   ]
  },
  {
   "cell_type": "code",
   "execution_count": 38,
   "id": "5c8d8e49-d0b0-4817-bcf3-62f5120edf00",
   "metadata": {
    "tags": []
   },
   "outputs": [
    {
     "name": "stdout",
     "output_type": "stream",
     "text": [
      "Accuracy: 0.68\n",
      "Precision: 0.70\n",
      "Recall: 0.68\n",
      "F1-score: 0.67\n",
      "SVC Cross-Validation Accuracy: 0.68\n"
     ]
    },
    {
     "data": {
      "image/png": "[encoded data removed]",
      "text/plain": [
       "<Figure size 640x480 with 2 Axes>"
      ]
     },
     "metadata": {},
     "output_type": "display_data"
    }
   ],
   "source": [
    "# Make predictions on the test data\n",
    "evaluate_model(svm_model, X_test, y_test)"
   ]
  },
  {
   "cell_type": "markdown",
   "id": "64737697-94fc-45ec-8bdd-a0f20ab34976",
   "metadata": {},
   "source": [
    "### K-Nearest Neighbors Evaluation"
   ]
  },
  {
   "cell_type": "code",
   "execution_count": 39,
   "id": "e80aa712-dd6c-4c50-9087-49cda1f65d30",
   "metadata": {
    "tags": []
   },
   "outputs": [
    {
     "name": "stdout",
     "output_type": "stream",
     "text": [
      "Accuracy: 0.80\n",
      "Precision: 0.81\n",
      "Recall: 0.80\n",
      "F1-score: 0.80\n",
      "KNeighborsClassifier Cross-Validation Accuracy: nan\n"
     ]
    },
    {
     "data": {
      "image/png": "[encoded data removed]",
      "text/plain": [
       "<Figure size 640x480 with 2 Axes>"
      ]
     },
     "metadata": {},
     "output_type": "display_data"
    }
   ],
   "source": [
    "# Make predictions on the test data\n",
    "evaluate_model(knn_model, X_test, y_test)"
   ]
  },
  {
   "cell_type": "markdown",
   "id": "1a4999d2-44d9-4a76-b65b-8b42e6009adb",
   "metadata": {},
   "source": [
    "### Gradient Boosting Evaluation"
   ]
  },
  {
   "cell_type": "code",
   "execution_count": 40,
   "id": "44d78da4-355d-45a6-a636-bb5cabcfe63a",
   "metadata": {
    "tags": []
   },
   "outputs": [
    {
     "name": "stdout",
     "output_type": "stream",
     "text": [
      "Accuracy: 0.84\n",
      "Precision: 0.85\n",
      "Recall: 0.84\n",
      "F1-score: 0.84\n",
      "GradientBoostingClassifier Cross-Validation Accuracy: 0.81\n"
     ]
    },
    {
     "data": {
      "image/png": "[encoded data removed]",
      "text/plain": [
       "<Figure size 640x480 with 2 Axes>"
      ]
     },
     "metadata": {},
     "output_type": "display_data"
    }
   ],
   "source": [
    "# Make predictions on the test data\n",
    "evaluate_model(gb_model, X_test, y_test)"
   ]
  }
 ],
 "metadata": {
  "kernelspec": {
   "display_name": "Python 3 (ipykernel)",
   "language": "python",
   "name": "python3"
  },
  "language_info": {
   "codemirror_mode": {
    "name": "ipython",
    "version": 3
   },
   "file_extension": ".py",
   "mimetype": "text/x-python",
   "name": "python",
   "nbconvert_exporter": "python",
   "pygments_lexer": "ipython3",
   "version": "3.11.4"
  }
 },
 "nbformat": 4,
 "nbformat_minor": 5
}
